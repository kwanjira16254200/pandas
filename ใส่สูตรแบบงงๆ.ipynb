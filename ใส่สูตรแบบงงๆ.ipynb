{
  "nbformat": 4,
  "nbformat_minor": 0,
  "metadata": {
    "colab": {
      "name": "Untitled2.ipynb",
      "provenance": [],
      "authorship_tag": "ABX9TyM4DW6fa+n5dNfsCuGbxIfR",
      "include_colab_link": true
    },
    "kernelspec": {
      "name": "python3",
      "display_name": "Python 3"
    },
    "language_info": {
      "name": "python"
    }
  },
  "cells": [
    {
      "cell_type": "markdown",
      "metadata": {
        "id": "view-in-github",
        "colab_type": "text"
      },
      "source": [
        "<a href=\"https://colab.research.google.com/github/kwanjira16254200/pandas/blob/main/%E0%B9%83%E0%B8%AA%E0%B9%88%E0%B8%AA%E0%B8%B9%E0%B8%95%E0%B8%A3%E0%B9%81%E0%B8%9A%E0%B8%9A%E0%B8%87%E0%B8%87%E0%B9%86.ipynb\" target=\"_parent\"><img src=\"https://colab.research.google.com/assets/colab-badge.svg\" alt=\"Open In Colab\"/></a>"
      ]
    },
    {
      "cell_type": "code",
      "execution_count": 1,
      "metadata": {
        "id": "X4AxRWyU_1jp"
      },
      "outputs": [],
      "source": [
        "import numpy as np\n",
        "import pandas as pd\n",
        "import seaborn as sns"
      ]
    },
    {
      "cell_type": "code",
      "source": [
        "fooddata = pd.read_csv('ใส่สูตรแล้ว.csv', header = None)"
      ],
      "metadata": {
        "id": "aSs3iAyvY9vU"
      },
      "execution_count": 3,
      "outputs": []
    },
    {
      "cell_type": "code",
      "source": [
        "df = pd.DataFrame(columns = ['Item', 'Count'])\n",
        "for i in range(0,fooddata.shape[0]):\n",
        "    for j in range(0, fooddata.shape[1]):\n",
        "      if fooddata.loc[i,j] in df.Item.values:\n",
        "        df.iloc[df.loc[df['Item']==fooddata.loc[i,j]].index[0],1]     = df.iloc[df.loc[df['Item']==fooddata.loc[i,j]].index[0],1] + 1\n",
        "      elif fooddata.loc[i,j] is np.nan:\n",
        "          continue\n",
        "      else:\n",
        "         df.loc[df.shape[0]] = [fooddata.loc[i,j],1]\n",
        "         df_desc = df.sort_values(by = 'Count',ascending = False)\n",
        "         df_desc.head()"
      ],
      "metadata": {
        "id": "QwwYXUySa4KR"
      },
      "execution_count": 6,
      "outputs": []
    },
    {
      "cell_type": "code",
      "source": [
        ""
      ],
      "metadata": {
        "id": "GiBfNL8UZnrg"
      },
      "execution_count": 6,
      "outputs": []
    },
    {
      "cell_type": "code",
      "source": [
        "ax = sns.barplot(x='Item', y='Count', data=df_desc[df_desc.Count>=30])\n",
        "ax.set_xticklabels(ax.get_xticklabels(),rotation=1)"
      ],
      "metadata": {
        "colab": {
          "base_uri": "https://localhost:8080/",
          "height": 298
        },
        "id": "dgEb6PWYc0BU",
        "outputId": "461da123-c9c5-4301-e04b-a2f43182e0b0"
      },
      "execution_count": 14,
      "outputs": [
        {
          "output_type": "execute_result",
          "data": {
            "text/plain": [
              "[Text(0, 0, '0'), Text(0, 0, '1'), Text(0, 0, '???????'), Text(0, 0, '??????')]"
            ]
          },
          "metadata": {},
          "execution_count": 14
        },
        {
          "output_type": "display_data",
          "data": {
            "image/png": "[encoded data removed]",
            "text/plain": [
              "<Figure size 432x288 with 1 Axes>"
            ]
          },
          "metadata": {
            "needs_background": "light"
          }
        }
      ]
    },
    {
      "cell_type": "code",
      "source": [
        "dataset = []\n",
        "for i in range(0, fooddata.shape[0]):\n",
        "   temp = []\n",
        "   for j in range(0, fooddata.shape[1]):\n",
        "    if not fooddata.loc[i,j] is np.nan:\n",
        "      temp.append(fooddata.loc[i,j])\n",
        "      dataset.append(temp)"
      ],
      "metadata": {
        "id": "GLnoasQFda6W"
      },
      "execution_count": 16,
      "outputs": []
    },
    {
      "cell_type": "code",
      "source": [
        "from mlxtend.preprocessing import TransactionEncoder\n",
        "te = TransactionEncoder()\n",
        "te_ary = te.fit(dataset).transform(dataset)\n",
        "df = pd.DataFrame(te_ary, columns=te.columns_)\n",
        "#apriori\n",
        "from mlxtend.frequent_patterns import apriori\n",
        "frequent_itemsets = apriori(df, min_support=0.05, use_colnames=True)\n",
        "#association_rules\n",
        "from mlxtend.frequent_patterns import association_rules\n",
        "rules = association_rules(frequent_itemsets,metric='lift', min_threshold=1)\n",
        "rules2 = rules[ (rules['confidence'] > 0.3) & (rules['lift'] > 1) ]\n"
      ],
      "metadata": {
        "id": "B3-GQuh3eHOE"
      },
      "execution_count": 17,
      "outputs": []
    }
  ]
}