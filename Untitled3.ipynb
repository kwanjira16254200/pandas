{
  "nbformat": 4,
  "nbformat_minor": 0,
  "metadata": {
    "colab": {
      "name": "Untitled3.ipynb",
      "provenance": [],
      "authorship_tag": "ABX9TyMvhfY0W/7LqTlwM+Yi/s77",
      "include_colab_link": true
    },
    "kernelspec": {
      "name": "python3",
      "display_name": "Python 3"
    },
    "language_info": {
      "name": "python"
    }
  },
  "cells": [
    {
      "cell_type": "markdown",
      "metadata": {
        "id": "view-in-github",
        "colab_type": "text"
      },
      "source": [
        "<a href=\"https://colab.research.google.com/github/kwanjira16254200/pandas/blob/main/Untitled3.ipynb\" target=\"_parent\"><img src=\"https://colab.research.google.com/assets/colab-badge.svg\" alt=\"Open In Colab\"/></a>"
      ]
    },
    {
      "cell_type": "code",
      "execution_count": 2,
      "metadata": {
        "id": "OZhBg4U9L1VC"
      },
      "outputs": [],
      "source": [
        "import pandas as pd\n",
        "import seaborn as sns"
      ]
    },
    {
      "cell_type": "code",
      "source": [
        "df = pd.read_csv('Bookcsv.csv',names=['Menu1','Menu2','Menu3','Menu4','Menu5'],header=None)"
      ],
      "metadata": {
        "id": "1JepU4N0L7vB"
      },
      "execution_count": 3,
      "outputs": []
    },
    {
      "cell_type": "code",
      "source": [
        "df"
      ],
      "metadata": {
        "id": "LDwg5W0cQ4GL"
      },
      "execution_count": null,
      "outputs": []
    },
    {
      "cell_type": "code",
      "source": [
        "df.columns"
      ],
      "metadata": {
        "colab": {
          "base_uri": "https://localhost:8080/"
        },
        "id": "5CfqBB5MRN1V",
        "outputId": "2d0112e9-b4ed-4330-99ae-50ccac6087d9"
      },
      "execution_count": 5,
      "outputs": [
        {
          "output_type": "execute_result",
          "data": {
            "text/plain": [
              "Index(['Menu1', 'Menu2', 'Menu3', 'Menu4', 'Menu5'], dtype='object')"
            ]
          },
          "metadata": {},
          "execution_count": 5
        }
      ]
    },
    {
      "cell_type": "code",
      "source": [
        "df.values"
      ],
      "metadata": {
        "id": "8hS0niQ3RT92"
      },
      "execution_count": null,
      "outputs": []
    },
    {
      "cell_type": "code",
      "source": [
        "df.describe()"
      ],
      "metadata": {
        "id": "mXwrg6vvneeS"
      },
      "execution_count": null,
      "outputs": []
    },
    {
      "cell_type": "markdown",
      "source": [
        "data = list(df['Menu1', 'Menu2', 'Menu3', 'Menu4', 'Menu5'].apply(lambda x:x.split(',')))\n",
        "data "
      ],
      "metadata": {
        "id": "0blxXKONRee3"
      }
    },
    {
      "cell_type": "code",
      "source": [
        "data = df.values.tolist()\n",
        "data"
      ],
      "metadata": {
        "id": "WWn75qhJSCME"
      },
      "execution_count": null,
      "outputs": []
    },
    {
      "cell_type": "code",
      "source": [
        "from mlxtend.preprocessing import TransactionEncoder"
      ],
      "metadata": {
        "id": "Cjf-hJ3uRlsx"
      },
      "execution_count": 9,
      "outputs": []
    },
    {
      "cell_type": "code",
      "source": [
        "Food = TransactionEncoder()\n",
        "Food_data = Food.fit(data).transform(data)\n",
        "df = pd.DataFrame(Food_data,columns=Food.columns_)\n",
        "df"
      ],
      "metadata": {
        "id": "2p3DOynxgOkg"
      },
      "execution_count": null,
      "outputs": []
    },
    {
      "cell_type": "code",
      "source": [
        "bool_2d_list = df.values.tolist()\n",
        "int_2d_list = []\n",
        "for list_bool in bool_2d_list:\n",
        "  convert = map(int, list_bool)\n",
        "  int_list = list(convert)\n",
        "  int_2d_list.append(int_list)\n",
        "df = pd.DataFrame(int_2d_list,columns=Food.columns_)\n",
        "df"
      ],
      "metadata": {
        "id": "wU5tnqFcgsWr"
      },
      "execution_count": null,
      "outputs": []
    },
    {
      "cell_type": "code",
      "source": [
        "from mlxtend.frequent_patterns import apriori"
      ],
      "metadata": {
        "id": "jn2S-r_2R4Jc"
      },
      "execution_count": 12,
      "outputs": []
    },
    {
      "cell_type": "code",
      "source": [
        "df1 = apriori(df,min_support=0.01,use_colnames=1)\n",
        "df1"
      ],
      "metadata": {
        "id": "w0h2J1UFR6YD"
      },
      "execution_count": null,
      "outputs": []
    },
    {
      "cell_type": "code",
      "source": [
        "df1['length'] = df1['itemsets'].apply(lambda x:len(x))\n",
        "df1"
      ],
      "metadata": {
        "id": "sQxlThSomnqw"
      },
      "execution_count": null,
      "outputs": []
    },
    {
      "cell_type": "code",
      "source": [
        "df1[(df1['length']==2)]"
      ],
      "metadata": {
        "id": "YpxcfdCwmz5D"
      },
      "execution_count": null,
      "outputs": []
    },
    {
      "cell_type": "code",
      "source": [
        "df1[(df1['length']==3)]"
      ],
      "metadata": {
        "id": "ruhkm7BbS4tw"
      },
      "execution_count": null,
      "outputs": []
    },
    {
      "cell_type": "code",
      "source": [
        "df1[(df1['length']==4)]"
      ],
      "metadata": {
        "id": "QUnS7V8lS7WA"
      },
      "execution_count": null,
      "outputs": []
    },
    {
      "cell_type": "code",
      "source": [
        "df1[ (df1['length'] == 1) & (df1['support'] >= 0.08) ]"
      ],
      "metadata": {
        "id": "dZD8yQXqTjf2"
      },
      "execution_count": null,
      "outputs": []
    },
    {
      "cell_type": "code",
      "source": [
        "df1[(df1['length']== {'F1'})] "
      ],
      "metadata": {
        "id": "CTkSGLKohUPG"
      },
      "execution_count": null,
      "outputs": []
    },
    {
      "cell_type": "code",
      "source": [
        "df1['itemsets']"
      ],
      "metadata": {
        "id": "GDvIrAVDavas",
        "outputId": "324ea85e-c613-4f9d-d68a-8aedf5d8e064",
        "colab": {
          "base_uri": "https://localhost:8080/"
        }
      },
      "execution_count": 20,
      "outputs": [
        {
          "output_type": "execute_result",
          "data": {
            "text/plain": [
              "0                            (F1)\n",
              "1                           (F10)\n",
              "2                          (F100)\n",
              "3                          (F101)\n",
              "4                          (F102)\n",
              "                  ...            \n",
              "1383        (F2, F8, F42, F7, F6)\n",
              "1384    (F43, F42, F24, F67, F26)\n",
              "1385     (F85, F44, F96, F8, F27)\n",
              "1386      (F85, F4, F39, F5, F72)\n",
              "1387     (F44, F9, F75, F71, F60)\n",
              "Name: itemsets, Length: 1388, dtype: object"
            ]
          },
          "metadata": {},
          "execution_count": 20
        }
      ]
    },
    {
      "cell_type": "code",
      "source": [
        "df1['itemsets'][0]"
      ],
      "metadata": {
        "id": "fK89KH2NbYNo",
        "outputId": "30359412-3122-4968-b345-b6437046b855",
        "colab": {
          "base_uri": "https://localhost:8080/"
        }
      },
      "execution_count": 21,
      "outputs": [
        {
          "output_type": "execute_result",
          "data": {
            "text/plain": [
              "frozenset({'F1'})"
            ]
          },
          "metadata": {},
          "execution_count": 21
        }
      ]
    },
    {
      "cell_type": "code",
      "source": [
        "df1['itemsets'][1]"
      ],
      "metadata": {
        "id": "TM2XSvJ0basv",
        "outputId": "2a596a96-88d5-4b0e-8f00-3bc120954f5c",
        "colab": {
          "base_uri": "https://localhost:8080/"
        }
      },
      "execution_count": 22,
      "outputs": [
        {
          "output_type": "execute_result",
          "data": {
            "text/plain": [
              "frozenset({'F10'})"
            ]
          },
          "metadata": {},
          "execution_count": 22
        }
      ]
    },
    {
      "cell_type": "code",
      "source": [
        "df1['itemsets'][2]"
      ],
      "metadata": {
        "id": "_SG-Qgmsbdko",
        "outputId": "7e119358-8e8c-471f-c5c0-27355d356290",
        "colab": {
          "base_uri": "https://localhost:8080/"
        }
      },
      "execution_count": 23,
      "outputs": [
        {
          "output_type": "execute_result",
          "data": {
            "text/plain": [
              "frozenset({'F100'})"
            ]
          },
          "metadata": {},
          "execution_count": 23
        }
      ]
    },
    {
      "cell_type": "code",
      "source": [
        "df1['itemsets'][3]"
      ],
      "metadata": {
        "id": "NwmTmjCFbh8C",
        "outputId": "2b134c35-8abe-49dc-a675-8592e58af595",
        "colab": {
          "base_uri": "https://localhost:8080/"
        }
      },
      "execution_count": 24,
      "outputs": [
        {
          "output_type": "execute_result",
          "data": {
            "text/plain": [
              "frozenset({'F101'})"
            ]
          },
          "metadata": {},
          "execution_count": 24
        }
      ]
    },
    {
      "cell_type": "code",
      "source": [
        "type(df1['itemsets'][0])"
      ],
      "metadata": {
        "id": "rZgZ4oFIbnVC",
        "outputId": "fc658545-ffc4-4890-a97b-2268a0daf3fd",
        "colab": {
          "base_uri": "https://localhost:8080/"
        }
      },
      "execution_count": 25,
      "outputs": [
        {
          "output_type": "execute_result",
          "data": {
            "text/plain": [
              "frozenset"
            ]
          },
          "metadata": {},
          "execution_count": 25
        }
      ]
    },
    {
      "cell_type": "code",
      "source": [
        "type(df1['itemsets'][1])"
      ],
      "metadata": {
        "id": "mFjR5pCLbqsY",
        "outputId": "e444cb1a-54d1-4b66-a3d2-24f1af4a4197",
        "colab": {
          "base_uri": "https://localhost:8080/"
        }
      },
      "execution_count": 26,
      "outputs": [
        {
          "output_type": "execute_result",
          "data": {
            "text/plain": [
              "frozenset"
            ]
          },
          "metadata": {},
          "execution_count": 26
        }
      ]
    }
  ]
}