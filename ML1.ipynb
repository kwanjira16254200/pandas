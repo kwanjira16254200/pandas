{
  "nbformat": 4,
  "nbformat_minor": 0,
  "metadata": {
    "colab": {
      "name": "ML1.ipynb",
      "provenance": [],
      "collapsed_sections": [],
      "include_colab_link": true
    },
    "kernelspec": {
      "name": "python3",
      "display_name": "Python 3"
    }
  },
  "cells": [
    {
      "cell_type": "markdown",
      "metadata": {
        "id": "view-in-github",
        "colab_type": "text"
      },
      "source": [
        "<a href=\"https://colab.research.google.com/github/kwanjira16254200/pandas/blob/main/ML1.ipynb\" target=\"_parent\"><img src=\"https://colab.research.google.com/assets/colab-badge.svg\" alt=\"Open In Colab\"/></a>"
      ]
    },
    {
      "cell_type": "code",
      "metadata": {
        "colab": {
          "base_uri": "https://localhost:8080/",
          "height": 419
        },
        "id": "Jt6Yyk0x5Rco",
        "outputId": "423a1dbc-a672-4c07-900a-5dbac84ca8c5"
      },
      "source": [
        "import numpy as np\n",
        "from sklearn.linear_model import LinearRegression\n",
        "import pandas as pd\n",
        "\n",
        "data = pd.read_csv(\"train_small.csv\")\n",
        "##X = np.array([[1, 1], [1, 2], [2, 2], [2, 3]])\n",
        "##y = np.dot(X, np.array([1, 2])) + 3\n",
        "##reg = LinearRegression().fit(X, y)\n",
        "\n",
        "#df = data.drop(columns=['key','pickup_longitude','pickup_latitude','dropoff_longitude','dropoff_latitude','passenger_count'])\n",
        "df = data.drop(columns=['key','pickup_datetime'])\n",
        "df\n"
      ],
      "execution_count": null,
      "outputs": [
        {
          "output_type": "execute_result",
          "data": {
            "text/html": [
              "<div>\n",
              "<style scoped>\n",
              "    .dataframe tbody tr th:only-of-type {\n",
              "        vertical-align: middle;\n",
              "    }\n",
              "\n",
              "    .dataframe tbody tr th {\n",
              "        vertical-align: top;\n",
              "    }\n",
              "\n",
              "    .dataframe thead th {\n",
              "        text-align: right;\n",
              "    }\n",
              "</style>\n",
              "<table border=\"1\" class=\"dataframe\">\n",
              "  <thead>\n",
              "    <tr style=\"text-align: right;\">\n",
              "      <th></th>\n",
              "      <th>fare_amount</th>\n",
              "      <th>pickup_longitude</th>\n",
              "      <th>pickup_latitude</th>\n",
              "      <th>dropoff_longitude</th>\n",
              "      <th>dropoff_latitude</th>\n",
              "      <th>passenger_count</th>\n",
              "    </tr>\n",
              "  </thead>\n",
              "  <tbody>\n",
              "    <tr>\n",
              "      <th>0</th>\n",
              "      <td>10.5</td>\n",
              "      <td>-73.978400</td>\n",
              "      <td>40.751700</td>\n",
              "      <td>-74.010500</td>\n",
              "      <td>40.713600</td>\n",
              "      <td>1</td>\n",
              "    </tr>\n",
              "    <tr>\n",
              "      <th>1</th>\n",
              "      <td>56.5</td>\n",
              "      <td>-74.000777</td>\n",
              "      <td>40.728885</td>\n",
              "      <td>-74.138033</td>\n",
              "      <td>40.550097</td>\n",
              "      <td>5</td>\n",
              "    </tr>\n",
              "    <tr>\n",
              "      <th>2</th>\n",
              "      <td>8.5</td>\n",
              "      <td>-73.978781</td>\n",
              "      <td>40.766801</td>\n",
              "      <td>-73.953289</td>\n",
              "      <td>40.788527</td>\n",
              "      <td>1</td>\n",
              "    </tr>\n",
              "    <tr>\n",
              "      <th>3</th>\n",
              "      <td>0.0</td>\n",
              "      <td>-73.987115</td>\n",
              "      <td>40.738808</td>\n",
              "      <td>-74.005911</td>\n",
              "      <td>40.713960</td>\n",
              "      <td>1</td>\n",
              "    </tr>\n",
              "    <tr>\n",
              "      <th>4</th>\n",
              "      <td>6.5</td>\n",
              "      <td>-73.897678</td>\n",
              "      <td>40.752456</td>\n",
              "      <td>-73.897678</td>\n",
              "      <td>40.752456</td>\n",
              "      <td>1</td>\n",
              "    </tr>\n",
              "    <tr>\n",
              "      <th>...</th>\n",
              "      <td>...</td>\n",
              "      <td>...</td>\n",
              "      <td>...</td>\n",
              "      <td>...</td>\n",
              "      <td>...</td>\n",
              "      <td>...</td>\n",
              "    </tr>\n",
              "    <tr>\n",
              "      <th>417994</th>\n",
              "      <td>4.9</td>\n",
              "      <td>-73.983748</td>\n",
              "      <td>40.760578</td>\n",
              "      <td>-73.995802</td>\n",
              "      <td>40.759285</td>\n",
              "      <td>1</td>\n",
              "    </tr>\n",
              "    <tr>\n",
              "      <th>417995</th>\n",
              "      <td>6.0</td>\n",
              "      <td>-73.978882</td>\n",
              "      <td>40.754275</td>\n",
              "      <td>-73.967487</td>\n",
              "      <td>40.757452</td>\n",
              "      <td>1</td>\n",
              "    </tr>\n",
              "    <tr>\n",
              "      <th>417996</th>\n",
              "      <td>25.0</td>\n",
              "      <td>-73.960121</td>\n",
              "      <td>40.710621</td>\n",
              "      <td>-73.977768</td>\n",
              "      <td>40.763439</td>\n",
              "      <td>1</td>\n",
              "    </tr>\n",
              "    <tr>\n",
              "      <th>417997</th>\n",
              "      <td>14.1</td>\n",
              "      <td>-73.976267</td>\n",
              "      <td>40.714955</td>\n",
              "      <td>-73.990797</td>\n",
              "      <td>40.723652</td>\n",
              "      <td>4</td>\n",
              "    </tr>\n",
              "    <tr>\n",
              "      <th>417998</th>\n",
              "      <td>6.9</td>\n",
              "      <td>-74.005084</td>\n",
              "      <td>40.746552</td>\n",
              "      <td>-73.979784</td>\n",
              "      <td>40.739883</td>\n",
              "      <td>1</td>\n",
              "    </tr>\n",
              "  </tbody>\n",
              "</table>\n",
              "<p>417999 rows × 6 columns</p>\n",
              "</div>"
            ],
            "text/plain": [
              "        fare_amount  pickup_longitude  ...  dropoff_latitude  passenger_count\n",
              "0              10.5        -73.978400  ...         40.713600                1\n",
              "1              56.5        -74.000777  ...         40.550097                5\n",
              "2               8.5        -73.978781  ...         40.788527                1\n",
              "3               0.0        -73.987115  ...         40.713960                1\n",
              "4               6.5        -73.897678  ...         40.752456                1\n",
              "...             ...               ...  ...               ...              ...\n",
              "417994          4.9        -73.983748  ...         40.759285                1\n",
              "417995          6.0        -73.978882  ...         40.757452                1\n",
              "417996         25.0        -73.960121  ...         40.763439                1\n",
              "417997         14.1        -73.976267  ...         40.723652                4\n",
              "417998          6.9        -74.005084  ...         40.739883                1\n",
              "\n",
              "[417999 rows x 6 columns]"
            ]
          },
          "metadata": {
            "tags": []
          },
          "execution_count": 27
        }
      ]
    },
    {
      "cell_type": "code",
      "metadata": {
        "colab": {
          "base_uri": "https://localhost:8080/"
        },
        "id": "RjwsbJXY8j10",
        "outputId": "baf7b376-8e73-4ad6-b309-b8071580200f"
      },
      "source": [
        "df_list = df['fare_amount'].head(10).values.tolist()\n",
        "df_list #อยากรู้ตัวfare_amount10แรก"
      ],
      "execution_count": null,
      "outputs": [
        {
          "output_type": "execute_result",
          "data": {
            "text/plain": [
              "[10.5, 56.5, 8.5, 0.0, 6.5, 8.5, 8.5, 34.0, 5.3, 10.5]"
            ]
          },
          "metadata": {
            "tags": []
          },
          "execution_count": 28
        }
      ]
    },
    {
      "cell_type": "code",
      "metadata": {
        "colab": {
          "base_uri": "https://localhost:8080/"
        },
        "id": "7C9coqMdh3Ic",
        "outputId": "f8b02026-e6ad-4b4d-f3cc-ff937f6e6dc3"
      },
      "source": [
        "avg = df['fare_amount'].mean()\n",
        "avg #อยากรู้ค่าเฉลี่ย"
      ],
      "execution_count": null,
      "outputs": [
        {
          "output_type": "execute_result",
          "data": {
            "text/plain": [
              "11.368328082125235"
            ]
          },
          "metadata": {
            "tags": []
          },
          "execution_count": 29
        }
      ]
    },
    {
      "cell_type": "code",
      "metadata": {
        "colab": {
          "base_uri": "https://localhost:8080/"
        },
        "id": "cVroFbs38qLy",
        "outputId": "fbfd0285-e07a-4f31-f4b0-cb1cc2bdc059"
      },
      "source": [
        "y = df['fare_amount'].head(110000).values.tolist()\n",
        "x = []\n",
        "for i in range (len(df['fare_amount'].head(110000).values.tolist())): #หาจำนวนที่อยู่ในวัตถุนั้น โดยวัตถุนั้นจะเป็น string, tuple, list หรือ range \n",
        "  x1 = [abs(df['dropoff_longitude'][i]-df['pickup_longitude'][i]),abs(df['dropoff_latitude'][i]-df['pickup_latitude'][i]),df['passenger_count'][i]]\n",
        "  x.append(x1)\n",
        "\n",
        "reg = LinearRegression().fit(x, y) #การนำข้อมูลที่ได้มาคำนวณหาสมการเพื่อแทนลักษณะของข้อมูลนั้น ๆซึ่งข้อมูลตัวเลข 2 ชุด คือ 1) ตัวแปรอิสระ x 2) ตัวแปรตาม Y^ \n",
        "reg.predict(np.array([[abs(-74.000777-(-74.138033)),abs(40.728885-40.550097),5]]))"
      ],
      "execution_count": null,
      "outputs": [
        {
          "output_type": "execute_result",
          "data": {
            "text/plain": [
              "array([11.72399527])"
            ]
          },
          "metadata": {
            "tags": []
          },
          "execution_count": 30
        }
      ]
    },
    {
      "cell_type": "code",
      "metadata": {
        "colab": {
          "base_uri": "https://localhost:8080/"
        },
        "id": "RlwV90g4G6ft",
        "outputId": "4ceac55e-66a0-473d-b528-0bbb02da1b3d"
      },
      "source": [
        "reg.coef_ #ค่าสัมประสิทธ์ที่มีผลต่อตัวแปรนั้น ๆอยู่ในช่วง -1ถึง1"
      ],
      "execution_count": null,
      "outputs": [
        {
          "output_type": "execute_result",
          "data": {
            "text/plain": [
              "array([0.01110077, 0.09006985, 0.103516  ])"
            ]
          },
          "metadata": {
            "tags": []
          },
          "execution_count": 31
        }
      ]
    },
    {
      "cell_type": "code",
      "metadata": {
        "colab": {
          "base_uri": "https://localhost:8080/"
        },
        "id": "XleRhHFuHDnS",
        "outputId": "8ee0d400-c3e4-4e91-c7de-5467e85edc4e"
      },
      "source": [
        "reg.intercept_ #ค่าที่บ่งบอกจุดตัดแกน"
      ],
      "execution_count": null,
      "outputs": [
        {
          "output_type": "execute_result",
          "data": {
            "text/plain": [
              "11.188788203855598"
            ]
          },
          "metadata": {
            "tags": []
          },
          "execution_count": 32
        }
      ]
    },
    {
      "cell_type": "code",
      "metadata": {
        "colab": {
          "base_uri": "https://localhost:8080/"
        },
        "id": "kRdOlgh-Oy0R",
        "outputId": "09abd3e9-5fca-40a4-f745-edad48aa8094"
      },
      "source": [
        "reg.score(x, y)"
      ],
      "execution_count": null,
      "outputs": [
        {
          "output_type": "execute_result",
          "data": {
            "text/plain": [
              "0.0006298125807435717"
            ]
          },
          "metadata": {
            "tags": []
          },
          "execution_count": 33
        }
      ]
    },
    {
      "cell_type": "markdown",
      "metadata": {
        "id": "iD1Z8RIgf0s9"
      },
      "source": [
        "###Poly"
      ]
    },
    {
      "cell_type": "code",
      "metadata": {
        "colab": {
          "base_uri": "https://localhost:8080/",
          "height": 359
        },
        "id": "tJlVUcl_fRW9",
        "outputId": "3c5215cc-0ab2-4ac2-a784-dd1c1b391777"
      },
      "source": [
        "import pandas as pd\n",
        "xdic={'X': {11: 300, 12: 170, 13: 288, 14: 360, 15: 319, 16: 330, 17: 520, 18: 345, 19: 399, 20: 479}}\n",
        "ydic={'y': {11: 305000, 12: 270000, 13: 360000, 14: 370000, 15: 379000, 16: 405000, 17: 407500, 18: 450000, 19: 450000, 20: 485000}}\n",
        "X=pd.DataFrame.from_dict(xdic)\n",
        "y=pd.DataFrame.from_dict(ydic)\n",
        "import numpy as np\n",
        "X_seq = np.linspace(X.min(),X.max(),300).reshape(-1,1)\n",
        "X"
      ],
      "execution_count": null,
      "outputs": [
        {
          "output_type": "execute_result",
          "data": {
            "text/html": [
              "<div>\n",
              "<style scoped>\n",
              "    .dataframe tbody tr th:only-of-type {\n",
              "        vertical-align: middle;\n",
              "    }\n",
              "\n",
              "    .dataframe tbody tr th {\n",
              "        vertical-align: top;\n",
              "    }\n",
              "\n",
              "    .dataframe thead th {\n",
              "        text-align: right;\n",
              "    }\n",
              "</style>\n",
              "<table border=\"1\" class=\"dataframe\">\n",
              "  <thead>\n",
              "    <tr style=\"text-align: right;\">\n",
              "      <th></th>\n",
              "      <th>X</th>\n",
              "    </tr>\n",
              "  </thead>\n",
              "  <tbody>\n",
              "    <tr>\n",
              "      <th>11</th>\n",
              "      <td>300</td>\n",
              "    </tr>\n",
              "    <tr>\n",
              "      <th>12</th>\n",
              "      <td>170</td>\n",
              "    </tr>\n",
              "    <tr>\n",
              "      <th>13</th>\n",
              "      <td>288</td>\n",
              "    </tr>\n",
              "    <tr>\n",
              "      <th>14</th>\n",
              "      <td>360</td>\n",
              "    </tr>\n",
              "    <tr>\n",
              "      <th>15</th>\n",
              "      <td>319</td>\n",
              "    </tr>\n",
              "    <tr>\n",
              "      <th>16</th>\n",
              "      <td>330</td>\n",
              "    </tr>\n",
              "    <tr>\n",
              "      <th>17</th>\n",
              "      <td>520</td>\n",
              "    </tr>\n",
              "    <tr>\n",
              "      <th>18</th>\n",
              "      <td>345</td>\n",
              "    </tr>\n",
              "    <tr>\n",
              "      <th>19</th>\n",
              "      <td>399</td>\n",
              "    </tr>\n",
              "    <tr>\n",
              "      <th>20</th>\n",
              "      <td>479</td>\n",
              "    </tr>\n",
              "  </tbody>\n",
              "</table>\n",
              "</div>"
            ],
            "text/plain": [
              "      X\n",
              "11  300\n",
              "12  170\n",
              "13  288\n",
              "14  360\n",
              "15  319\n",
              "16  330\n",
              "17  520\n",
              "18  345\n",
              "19  399\n",
              "20  479"
            ]
          },
          "metadata": {
            "tags": []
          },
          "execution_count": 142
        }
      ]
    },
    {
      "cell_type": "code",
      "metadata": {
        "colab": {
          "base_uri": "https://localhost:8080/"
        },
        "id": "RTU-ifDbfTJz",
        "outputId": "e3e4face-36d2-4361-d269-e42f1ffd77b7"
      },
      "source": [
        "from sklearn.preprocessing import PolynomialFeatures\n",
        "from sklearn.pipeline import make_pipeline\n",
        "from sklearn.linear_model import LinearRegression\n",
        "degree=9\n",
        "polyreg=make_pipeline(PolynomialFeatures(degree),LinearRegression())\n",
        "polyreg.fit(X,y)"
      ],
      "execution_count": null,
      "outputs": [
        {
          "output_type": "execute_result",
          "data": {
            "text/plain": [
              "Pipeline(memory=None,\n",
              "         steps=[('polynomialfeatures',\n",
              "                 PolynomialFeatures(degree=9, include_bias=True,\n",
              "                                    interaction_only=False, order='C')),\n",
              "                ('linearregression',\n",
              "                 LinearRegression(copy_X=True, fit_intercept=True, n_jobs=None,\n",
              "                                  normalize=False))],\n",
              "         verbose=False)"
            ]
          },
          "metadata": {
            "tags": []
          },
          "execution_count": 161
        }
      ]
    },
    {
      "cell_type": "code",
      "metadata": {
        "colab": {
          "base_uri": "https://localhost:8080/",
          "height": 281
        },
        "id": "zkJQx6TZfZ5-",
        "outputId": "a8c7d349-a686-4c24-f708-2e1e0d275bed"
      },
      "source": [
        "import matplotlib.pyplot as plt\n",
        "plt.figure()\n",
        "plt.scatter(X,y)\n",
        "plt.plot(X_seq,polyreg.predict(X_seq),color=\"black\")\n",
        "plt.title(\"Polynomial regression with degree \"+str(degree))\n",
        "plt.show()"
      ],
      "execution_count": null,
      "outputs": [
        {
          "output_type": "display_data",
          "data": {
            "image/png": "[encoded data removed]",
            "text/plain": [
              "<Figure size 432x288 with 1 Axes>"
            ]
          },
          "metadata": {
            "tags": [],
            "needs_background": "light"
          }
        }
      ]
    },
    {
      "cell_type": "markdown",
      "metadata": {
        "id": "HOodkA7rf5bE"
      },
      "source": [
        "###Poly Nu"
      ]
    },
    {
      "cell_type": "code",
      "metadata": {
        "colab": {
          "base_uri": "https://localhost:8080/",
          "height": 419
        },
        "id": "VjSj8C2dftw9",
        "outputId": "4eb9bd24-0830-4af8-e28f-a978df15ec2f"
      },
      "source": [
        "import numpy as np\n",
        "from sklearn.linear_model import LinearRegression\n",
        "import pandas as pd\n",
        "\n",
        "data = pd.read_csv('train_small.csv')\n",
        "##X = np.array([[1, 1], [1, 2], [2, 2], [2, 3]])\n",
        "##y = np.dot(X, np.array([1, 2])) + 3\n",
        "##reg = LinearRegression().fit(X, y)\n",
        "\n",
        "#df = data.drop(columns=['key','pickup_longitude','pickup_latitude','dropoff_longitude','dropoff_latitude','passenger_count'])\n",
        "df = data.drop(columns=['key','pickup_datetime']) #ทิ้ง\n",
        "df = df[(df.T != 0).all()]\n",
        "df = df[(df.T <= 180).all()]\n",
        "df = df[(df.T >= -180).all()]\n",
        "df\n"
      ],
      "execution_count": null,
      "outputs": [
        {
          "output_type": "execute_result",
          "data": {
            "text/html": [
              "<div>\n",
              "<style scoped>\n",
              "    .dataframe tbody tr th:only-of-type {\n",
              "        vertical-align: middle;\n",
              "    }\n",
              "\n",
              "    .dataframe tbody tr th {\n",
              "        vertical-align: top;\n",
              "    }\n",
              "\n",
              "    .dataframe thead th {\n",
              "        text-align: right;\n",
              "    }\n",
              "</style>\n",
              "<table border=\"1\" class=\"dataframe\">\n",
              "  <thead>\n",
              "    <tr style=\"text-align: right;\">\n",
              "      <th></th>\n",
              "      <th>fare_amount</th>\n",
              "      <th>pickup_longitude</th>\n",
              "      <th>pickup_latitude</th>\n",
              "      <th>dropoff_longitude</th>\n",
              "      <th>dropoff_latitude</th>\n",
              "      <th>passenger_count</th>\n",
              "    </tr>\n",
              "  </thead>\n",
              "  <tbody>\n",
              "    <tr>\n",
              "      <th>0</th>\n",
              "      <td>10.5</td>\n",
              "      <td>-73.978400</td>\n",
              "      <td>40.751700</td>\n",
              "      <td>-74.010500</td>\n",
              "      <td>40.713600</td>\n",
              "      <td>1</td>\n",
              "    </tr>\n",
              "    <tr>\n",
              "      <th>1</th>\n",
              "      <td>56.5</td>\n",
              "      <td>-74.000777</td>\n",
              "      <td>40.728885</td>\n",
              "      <td>-74.138033</td>\n",
              "      <td>40.550097</td>\n",
              "      <td>5</td>\n",
              "    </tr>\n",
              "    <tr>\n",
              "      <th>2</th>\n",
              "      <td>8.5</td>\n",
              "      <td>-73.978781</td>\n",
              "      <td>40.766801</td>\n",
              "      <td>-73.953289</td>\n",
              "      <td>40.788527</td>\n",
              "      <td>1</td>\n",
              "    </tr>\n",
              "    <tr>\n",
              "      <th>4</th>\n",
              "      <td>6.5</td>\n",
              "      <td>-73.897678</td>\n",
              "      <td>40.752456</td>\n",
              "      <td>-73.897678</td>\n",
              "      <td>40.752456</td>\n",
              "      <td>1</td>\n",
              "    </tr>\n",
              "    <tr>\n",
              "      <th>5</th>\n",
              "      <td>8.5</td>\n",
              "      <td>-73.967647</td>\n",
              "      <td>40.763077</td>\n",
              "      <td>-73.977438</td>\n",
              "      <td>40.787097</td>\n",
              "      <td>2</td>\n",
              "    </tr>\n",
              "    <tr>\n",
              "      <th>...</th>\n",
              "      <td>...</td>\n",
              "      <td>...</td>\n",
              "      <td>...</td>\n",
              "      <td>...</td>\n",
              "      <td>...</td>\n",
              "      <td>...</td>\n",
              "    </tr>\n",
              "    <tr>\n",
              "      <th>417994</th>\n",
              "      <td>4.9</td>\n",
              "      <td>-73.983748</td>\n",
              "      <td>40.760578</td>\n",
              "      <td>-73.995802</td>\n",
              "      <td>40.759285</td>\n",
              "      <td>1</td>\n",
              "    </tr>\n",
              "    <tr>\n",
              "      <th>417995</th>\n",
              "      <td>6.0</td>\n",
              "      <td>-73.978882</td>\n",
              "      <td>40.754275</td>\n",
              "      <td>-73.967487</td>\n",
              "      <td>40.757452</td>\n",
              "      <td>1</td>\n",
              "    </tr>\n",
              "    <tr>\n",
              "      <th>417996</th>\n",
              "      <td>25.0</td>\n",
              "      <td>-73.960121</td>\n",
              "      <td>40.710621</td>\n",
              "      <td>-73.977768</td>\n",
              "      <td>40.763439</td>\n",
              "      <td>1</td>\n",
              "    </tr>\n",
              "    <tr>\n",
              "      <th>417997</th>\n",
              "      <td>14.1</td>\n",
              "      <td>-73.976267</td>\n",
              "      <td>40.714955</td>\n",
              "      <td>-73.990797</td>\n",
              "      <td>40.723652</td>\n",
              "      <td>4</td>\n",
              "    </tr>\n",
              "    <tr>\n",
              "      <th>417998</th>\n",
              "      <td>6.9</td>\n",
              "      <td>-74.005084</td>\n",
              "      <td>40.746552</td>\n",
              "      <td>-73.979784</td>\n",
              "      <td>40.739883</td>\n",
              "      <td>1</td>\n",
              "    </tr>\n",
              "  </tbody>\n",
              "</table>\n",
              "<p>408244 rows × 6 columns</p>\n",
              "</div>"
            ],
            "text/plain": [
              "        fare_amount  pickup_longitude  ...  dropoff_latitude  passenger_count\n",
              "0              10.5        -73.978400  ...         40.713600                1\n",
              "1              56.5        -74.000777  ...         40.550097                5\n",
              "2               8.5        -73.978781  ...         40.788527                1\n",
              "4               6.5        -73.897678  ...         40.752456                1\n",
              "5               8.5        -73.967647  ...         40.787097                2\n",
              "...             ...               ...  ...               ...              ...\n",
              "417994          4.9        -73.983748  ...         40.759285                1\n",
              "417995          6.0        -73.978882  ...         40.757452                1\n",
              "417996         25.0        -73.960121  ...         40.763439                1\n",
              "417997         14.1        -73.976267  ...         40.723652                4\n",
              "417998          6.9        -74.005084  ...         40.739883                1\n",
              "\n",
              "[408244 rows x 6 columns]"
            ]
          },
          "metadata": {
            "tags": []
          },
          "execution_count": 215
        }
      ]
    },
    {
      "cell_type": "code",
      "metadata": {
        "colab": {
          "base_uri": "https://localhost:8080/"
        },
        "id": "FA1TSXbvlK6E",
        "outputId": "00b6cebc-b84f-4d76-da70-ce29b8e8bd17"
      },
      "source": [
        "import math\n",
        "y = pd.DataFrame(df[\"fare_amount\"])\n",
        "#X = math.sqrt(((df[\"pickup_longitude\"]-df[\"dropoff_longitude\"])**2)+((df[\"dropoff_latitude\"]-df[\"pickup_latitude\"])**2))\n",
        "X = []\n",
        "for i in y[\"fare_amount\"].index:\n",
        "  a = math.sqrt(((df[\"pickup_longitude\"][i]-df[\"dropoff_longitude\"][i])**2)+((df[\"dropoff_latitude\"][i]-df[\"pickup_latitude\"][i])**2))\n",
        "  X.append(a)\n",
        "\n",
        "X = np.array(X).reshape(-1,1) #array แบบหนึ่งมิติ มีสมาชิกทั้งหมด x ตัว จากนั้นเปลี่ยนมิติเป็น 2 มิติ โดยให้มีแถว -1 แถว แต่ละแถวมีสมาชิก 1 ตัว?? พารามิเตอร์จะเป็น1\n",
        "X"
      ],
      "execution_count": null,
      "outputs": [
        {
          "output_type": "execute_result",
          "data": {
            "text/plain": [
              "array([[0.04981988],\n",
              "       [0.22539822],\n",
              "       [0.0334942 ],\n",
              "       ...,\n",
              "       [0.05568826],\n",
              "       [0.01693395],\n",
              "       [0.0261642 ]])"
            ]
          },
          "metadata": {
            "tags": []
          },
          "execution_count": 216
        }
      ]
    },
    {
      "cell_type": "code",
      "metadata": {
        "colab": {
          "base_uri": "https://localhost:8080/",
          "height": 419
        },
        "id": "wve2CvHX0TLQ",
        "outputId": "84c280c4-9d51-4c8e-c647-2aca6390d83a"
      },
      "source": [
        "y"
      ],
      "execution_count": null,
      "outputs": [
        {
          "output_type": "execute_result",
          "data": {
            "text/html": [
              "<div>\n",
              "<style scoped>\n",
              "    .dataframe tbody tr th:only-of-type {\n",
              "        vertical-align: middle;\n",
              "    }\n",
              "\n",
              "    .dataframe tbody tr th {\n",
              "        vertical-align: top;\n",
              "    }\n",
              "\n",
              "    .dataframe thead th {\n",
              "        text-align: right;\n",
              "    }\n",
              "</style>\n",
              "<table border=\"1\" class=\"dataframe\">\n",
              "  <thead>\n",
              "    <tr style=\"text-align: right;\">\n",
              "      <th></th>\n",
              "      <th>fare_amount</th>\n",
              "    </tr>\n",
              "  </thead>\n",
              "  <tbody>\n",
              "    <tr>\n",
              "      <th>0</th>\n",
              "      <td>10.5</td>\n",
              "    </tr>\n",
              "    <tr>\n",
              "      <th>1</th>\n",
              "      <td>56.5</td>\n",
              "    </tr>\n",
              "    <tr>\n",
              "      <th>2</th>\n",
              "      <td>8.5</td>\n",
              "    </tr>\n",
              "    <tr>\n",
              "      <th>4</th>\n",
              "      <td>6.5</td>\n",
              "    </tr>\n",
              "    <tr>\n",
              "      <th>5</th>\n",
              "      <td>8.5</td>\n",
              "    </tr>\n",
              "    <tr>\n",
              "      <th>...</th>\n",
              "      <td>...</td>\n",
              "    </tr>\n",
              "    <tr>\n",
              "      <th>417994</th>\n",
              "      <td>4.9</td>\n",
              "    </tr>\n",
              "    <tr>\n",
              "      <th>417995</th>\n",
              "      <td>6.0</td>\n",
              "    </tr>\n",
              "    <tr>\n",
              "      <th>417996</th>\n",
              "      <td>25.0</td>\n",
              "    </tr>\n",
              "    <tr>\n",
              "      <th>417997</th>\n",
              "      <td>14.1</td>\n",
              "    </tr>\n",
              "    <tr>\n",
              "      <th>417998</th>\n",
              "      <td>6.9</td>\n",
              "    </tr>\n",
              "  </tbody>\n",
              "</table>\n",
              "<p>408244 rows × 1 columns</p>\n",
              "</div>"
            ],
            "text/plain": [
              "        fare_amount\n",
              "0              10.5\n",
              "1              56.5\n",
              "2               8.5\n",
              "4               6.5\n",
              "5               8.5\n",
              "...             ...\n",
              "417994          4.9\n",
              "417995          6.0\n",
              "417996         25.0\n",
              "417997         14.1\n",
              "417998          6.9\n",
              "\n",
              "[408244 rows x 1 columns]"
            ]
          },
          "metadata": {
            "tags": []
          },
          "execution_count": 217
        }
      ]
    },
    {
      "cell_type": "code",
      "metadata": {
        "colab": {
          "base_uri": "https://localhost:8080/"
        },
        "id": "tXbZFwRTk6N1",
        "outputId": "738fb861-c0b9-4235-f892-8d9fc45430bd"
      },
      "source": [
        "from sklearn.preprocessing import PolynomialFeatures\n",
        "from sklearn.pipeline import make_pipeline\n",
        "from sklearn.linear_model import LinearRegression\n",
        "degree=1\n",
        "polyreg=make_pipeline(PolynomialFeatures(degree),LinearRegression())\n",
        "polyreg.fit(X,y)"
      ],
      "execution_count": null,
      "outputs": [
        {
          "output_type": "execute_result",
          "data": {
            "text/plain": [
              "Pipeline(memory=None,\n",
              "         steps=[('polynomialfeatures',\n",
              "                 PolynomialFeatures(degree=1, include_bias=True,\n",
              "                                    interaction_only=False, order='C')),\n",
              "                ('linearregression',\n",
              "                 LinearRegression(copy_X=True, fit_intercept=True, n_jobs=None,\n",
              "                                  normalize=False))],\n",
              "         verbose=False)"
            ]
          },
          "metadata": {
            "tags": []
          },
          "execution_count": 244
        }
      ]
    },
    {
      "cell_type": "code",
      "metadata": {
        "colab": {
          "base_uri": "https://localhost:8080/"
        },
        "id": "ui8Tkmr60VcP",
        "outputId": "28107e3c-ecb3-4dd4-fa55-9ab474e026cc"
      },
      "source": [
        "X"
      ],
      "execution_count": null,
      "outputs": [
        {
          "output_type": "execute_result",
          "data": {
            "text/plain": [
              "array([[0.04981988],\n",
              "       [0.22539822],\n",
              "       [0.0334942 ],\n",
              "       ...,\n",
              "       [0.05568826],\n",
              "       [0.01693395],\n",
              "       [0.0261642 ]])"
            ]
          },
          "metadata": {
            "tags": []
          },
          "execution_count": 237
        }
      ]
    },
    {
      "cell_type": "code",
      "metadata": {
        "colab": {
          "base_uri": "https://localhost:8080/",
          "height": 281
        },
        "id": "ma7FDD3-o8qk",
        "outputId": "064235f7-803a-496c-eac3-889f146bb9b5"
      },
      "source": [
        "import matplotlib.pyplot as plt\n",
        "X_s = X\n",
        "plt.figure()\n",
        "plt.scatter(X,y)\n",
        "plt.plot(X_s,polyreg.predict(X_s),color=\"black\")\n",
        "plt.title(\"Polynomial regression with degree \"+str(degree))\n",
        "plt.show()"
      ],
      "execution_count": null,
      "outputs": [
        {
          "output_type": "display_data",
          "data": {
            "image/png": "[encoded data removed]",
            "text/plain": [
              "<Figure size 432x288 with 1 Axes>"
            ]
          },
          "metadata": {
            "tags": [],
            "needs_background": "light"
          }
        }
      ]
    },
    {
      "cell_type": "code",
      "metadata": {
        "colab": {
          "base_uri": "https://localhost:8080/"
        },
        "id": "MLr2O2muzphS",
        "outputId": "fd5f691b-f149-484b-a917-92dddb4ea907"
      },
      "source": [
        "s = polyreg.predict(X_s)\n",
        "s"
      ],
      "execution_count": null,
      "outputs": [
        {
          "output_type": "execute_result",
          "data": {
            "text/plain": [
              "array([[11.34755085],\n",
              "       [11.43599798],\n",
              "       [11.33932683],\n",
              "       ...,\n",
              "       [11.35050703],\n",
              "       [11.33098465],\n",
              "       [11.33563437]])"
            ]
          },
          "metadata": {
            "tags": []
          },
          "execution_count": 246
        }
      ]
    },
    {
      "cell_type": "code",
      "metadata": {
        "colab": {
          "base_uri": "https://localhost:8080/",
          "height": 419
        },
        "id": "MqGAW9plxy6J",
        "outputId": "fee34ba3-8c7b-42b6-f5cf-b507b24bd786"
      },
      "source": [
        "test = pd.read_csv('test_small.csv')\n",
        "test"
      ],
      "execution_count": null,
      "outputs": [
        {
          "output_type": "execute_result",
          "data": {
            "text/html": [
              "<div>\n",
              "<style scoped>\n",
              "    .dataframe tbody tr th:only-of-type {\n",
              "        vertical-align: middle;\n",
              "    }\n",
              "\n",
              "    .dataframe tbody tr th {\n",
              "        vertical-align: top;\n",
              "    }\n",
              "\n",
              "    .dataframe thead th {\n",
              "        text-align: right;\n",
              "    }\n",
              "</style>\n",
              "<table border=\"1\" class=\"dataframe\">\n",
              "  <thead>\n",
              "    <tr style=\"text-align: right;\">\n",
              "      <th></th>\n",
              "      <th>key</th>\n",
              "      <th>pickup_datetime</th>\n",
              "      <th>pickup_longitude</th>\n",
              "      <th>pickup_latitude</th>\n",
              "      <th>dropoff_longitude</th>\n",
              "      <th>dropoff_latitude</th>\n",
              "      <th>passenger_count</th>\n",
              "    </tr>\n",
              "  </thead>\n",
              "  <tbody>\n",
              "    <tr>\n",
              "      <th>0</th>\n",
              "      <td>2009-06-15 17:26:21.0000001</td>\n",
              "      <td>2009-06-15 17:26:21 UTC</td>\n",
              "      <td>-73.844311</td>\n",
              "      <td>40.721319</td>\n",
              "      <td>-73.841610</td>\n",
              "      <td>40.712278</td>\n",
              "      <td>1</td>\n",
              "    </tr>\n",
              "    <tr>\n",
              "      <th>1</th>\n",
              "      <td>2010-01-05 16:52:16.0000002</td>\n",
              "      <td>2010-01-05 16:52:16 UTC</td>\n",
              "      <td>-74.016048</td>\n",
              "      <td>40.711303</td>\n",
              "      <td>-73.979268</td>\n",
              "      <td>40.782004</td>\n",
              "      <td>1</td>\n",
              "    </tr>\n",
              "    <tr>\n",
              "      <th>2</th>\n",
              "      <td>2011-08-18 00:35:00.00000049</td>\n",
              "      <td>2011-08-18 00:35:00 UTC</td>\n",
              "      <td>-73.982738</td>\n",
              "      <td>40.761270</td>\n",
              "      <td>-73.991242</td>\n",
              "      <td>40.750562</td>\n",
              "      <td>2</td>\n",
              "    </tr>\n",
              "    <tr>\n",
              "      <th>3</th>\n",
              "      <td>2012-04-21 04:30:42.0000001</td>\n",
              "      <td>2012-04-21 04:30:42 UTC</td>\n",
              "      <td>-73.987130</td>\n",
              "      <td>40.733143</td>\n",
              "      <td>-73.991567</td>\n",
              "      <td>40.758092</td>\n",
              "      <td>1</td>\n",
              "    </tr>\n",
              "    <tr>\n",
              "      <th>4</th>\n",
              "      <td>2010-03-09 07:51:00.000000135</td>\n",
              "      <td>2010-03-09 07:51:00 UTC</td>\n",
              "      <td>-73.968095</td>\n",
              "      <td>40.768008</td>\n",
              "      <td>-73.956655</td>\n",
              "      <td>40.783762</td>\n",
              "      <td>1</td>\n",
              "    </tr>\n",
              "    <tr>\n",
              "      <th>...</th>\n",
              "      <td>...</td>\n",
              "      <td>...</td>\n",
              "      <td>...</td>\n",
              "      <td>...</td>\n",
              "      <td>...</td>\n",
              "      <td>...</td>\n",
              "      <td>...</td>\n",
              "    </tr>\n",
              "    <tr>\n",
              "      <th>9994</th>\n",
              "      <td>2010-08-27 08:45:01.0000004</td>\n",
              "      <td>2010-08-27 08:45:01 UTC</td>\n",
              "      <td>-73.983616</td>\n",
              "      <td>40.756005</td>\n",
              "      <td>-73.976169</td>\n",
              "      <td>40.763282</td>\n",
              "      <td>1</td>\n",
              "    </tr>\n",
              "    <tr>\n",
              "      <th>9995</th>\n",
              "      <td>2011-10-26 10:44:00.00000086</td>\n",
              "      <td>2011-10-26 10:44:00 UTC</td>\n",
              "      <td>-73.988277</td>\n",
              "      <td>40.748970</td>\n",
              "      <td>-73.963712</td>\n",
              "      <td>40.773958</td>\n",
              "      <td>2</td>\n",
              "    </tr>\n",
              "    <tr>\n",
              "      <th>9996</th>\n",
              "      <td>2011-12-16 15:37:00.000000179</td>\n",
              "      <td>2011-12-16 15:37:00 UTC</td>\n",
              "      <td>-74.002112</td>\n",
              "      <td>40.748727</td>\n",
              "      <td>-73.992467</td>\n",
              "      <td>40.756252</td>\n",
              "      <td>1</td>\n",
              "    </tr>\n",
              "    <tr>\n",
              "      <th>9997</th>\n",
              "      <td>2013-11-16 22:47:17.0000001</td>\n",
              "      <td>2013-11-16 22:47:17 UTC</td>\n",
              "      <td>-73.992093</td>\n",
              "      <td>40.729071</td>\n",
              "      <td>-73.974470</td>\n",
              "      <td>40.763050</td>\n",
              "      <td>2</td>\n",
              "    </tr>\n",
              "    <tr>\n",
              "      <th>9998</th>\n",
              "      <td>2010-01-28 11:38:00.00000022</td>\n",
              "      <td>2010-01-28 11:38:00 UTC</td>\n",
              "      <td>-73.992548</td>\n",
              "      <td>40.735652</td>\n",
              "      <td>-73.998802</td>\n",
              "      <td>40.723085</td>\n",
              "      <td>1</td>\n",
              "    </tr>\n",
              "  </tbody>\n",
              "</table>\n",
              "<p>9999 rows × 7 columns</p>\n",
              "</div>"
            ],
            "text/plain": [
              "                                key  ... passenger_count\n",
              "0       2009-06-15 17:26:21.0000001  ...               1\n",
              "1       2010-01-05 16:52:16.0000002  ...               1\n",
              "2      2011-08-18 00:35:00.00000049  ...               2\n",
              "3       2012-04-21 04:30:42.0000001  ...               1\n",
              "4     2010-03-09 07:51:00.000000135  ...               1\n",
              "...                             ...  ...             ...\n",
              "9994    2010-08-27 08:45:01.0000004  ...               1\n",
              "9995   2011-10-26 10:44:00.00000086  ...               2\n",
              "9996  2011-12-16 15:37:00.000000179  ...               1\n",
              "9997    2013-11-16 22:47:17.0000001  ...               2\n",
              "9998   2010-01-28 11:38:00.00000022  ...               1\n",
              "\n",
              "[9999 rows x 7 columns]"
            ]
          },
          "metadata": {
            "tags": []
          },
          "execution_count": 247
        }
      ]
    },
    {
      "cell_type": "code",
      "metadata": {
        "colab": {
          "base_uri": "https://localhost:8080/"
        },
        "id": "Up3vYhqv2id5",
        "outputId": "4757233f-b79a-4ad9-dbbe-e86e9ec66728"
      },
      "source": [
        "import math\n",
        "\n",
        "#X = math.sqrt(((df[\"pickup_longitude\"]-df[\"dropoff_longitude\"])**2)+((df[\"dropoff_latitude\"]-df[\"pickup_latitude\"])**2))\n",
        "X_test = []\n",
        "for i in test[\"key\"].index:\n",
        "  a = math.sqrt(((test[\"pickup_longitude\"][i]-test[\"dropoff_longitude\"][i])**2)+((test[\"dropoff_latitude\"][i]-test[\"pickup_latitude\"][i])**2))\n",
        "  X_test.append(a)\n",
        "\n",
        "X_test = np.array(X_test).reshape(-1,1)\n",
        "X_test"
      ],
      "execution_count": null,
      "outputs": [
        {
          "output_type": "execute_result",
          "data": {
            "text/plain": [
              "array([[0.00943584],\n",
              "       [0.07969567],\n",
              "       [0.01367404],\n",
              "       ...,\n",
              "       [0.01223322],\n",
              "       [0.03827718],\n",
              "       [0.01403717]])"
            ]
          },
          "metadata": {
            "tags": []
          },
          "execution_count": 248
        }
      ]
    },
    {
      "cell_type": "code",
      "metadata": {
        "colab": {
          "base_uri": "https://localhost:8080/"
        },
        "id": "yMFer_4A29G3",
        "outputId": "5a7fbf84-56bf-42ff-b4c8-5e5a069b6f90"
      },
      "source": [
        "result = polyreg.predict(X_test)\n",
        "result"
      ],
      "execution_count": null,
      "outputs": [
        {
          "output_type": "execute_result",
          "data": {
            "text/plain": [
              "array([[11.3272075 ],\n",
              "       [11.3626007 ],\n",
              "       [11.32934248],\n",
              "       ...,\n",
              "       [11.32861667],\n",
              "       [11.34173625],\n",
              "       [11.3295254 ]])"
            ]
          },
          "metadata": {
            "tags": []
          },
          "execution_count": 249
        }
      ]
    },
    {
      "cell_type": "code",
      "metadata": {
        "id": "PMj3OjJl4MjE"
      },
      "source": [
        "from google.colab import files\n",
        "import csv\n",
        "send = pd.DataFrame(result)\n",
        "send.to_csv('send.csv', index=False)\n",
        "\n",
        "#files.download(\"data.csv\")\n"
      ],
      "execution_count": null,
      "outputs": []
    },
    {
      "cell_type": "markdown",
      "metadata": {
        "id": "URDXZ0XZABr7"
      },
      "source": [
        "###วิธีที่1"
      ]
    },
    {
      "cell_type": "code",
      "metadata": {
        "colab": {
          "base_uri": "https://localhost:8080/",
          "height": 419
        },
        "id": "bJSPA7n8AEzf",
        "outputId": "413a5845-dcb0-47dc-8ad7-6f99eac54756"
      },
      "source": [
        "import numpy as np\n",
        "from sklearn.linear_model import LinearRegression\n",
        "import pandas as pd\n",
        "\n",
        "data = pd.read_csv('train_small.csv')\n",
        "##X = np.array([[1, 1], [1, 2], [2, 2], [2, 3]])\n",
        "##y = np.dot(X, np.array([1, 2])) + 3\n",
        "##reg = LinearRegression().fit(X, y)\n",
        "\n",
        "#df = data.drop(columns=['key','pickup_longitude','pickup_latitude','dropoff_longitude','dropoff_latitude','passenger_count'])\n",
        "df = data.drop(columns=['key','pickup_datetime'])\n",
        "df = df[(df.T != 0).all()]\n",
        "df = df[(df.T <= 180).all()]\n",
        "df = df[(df.T >= -180).all()]\n",
        "df"
      ],
      "execution_count": null,
      "outputs": [
        {
          "output_type": "execute_result",
          "data": {
            "text/html": [
              "<div>\n",
              "<style scoped>\n",
              "    .dataframe tbody tr th:only-of-type {\n",
              "        vertical-align: middle;\n",
              "    }\n",
              "\n",
              "    .dataframe tbody tr th {\n",
              "        vertical-align: top;\n",
              "    }\n",
              "\n",
              "    .dataframe thead th {\n",
              "        text-align: right;\n",
              "    }\n",
              "</style>\n",
              "<table border=\"1\" class=\"dataframe\">\n",
              "  <thead>\n",
              "    <tr style=\"text-align: right;\">\n",
              "      <th></th>\n",
              "      <th>fare_amount</th>\n",
              "      <th>pickup_longitude</th>\n",
              "      <th>pickup_latitude</th>\n",
              "      <th>dropoff_longitude</th>\n",
              "      <th>dropoff_latitude</th>\n",
              "      <th>passenger_count</th>\n",
              "    </tr>\n",
              "  </thead>\n",
              "  <tbody>\n",
              "    <tr>\n",
              "      <th>0</th>\n",
              "      <td>10.5</td>\n",
              "      <td>-73.978400</td>\n",
              "      <td>40.751700</td>\n",
              "      <td>-74.010500</td>\n",
              "      <td>40.713600</td>\n",
              "      <td>1</td>\n",
              "    </tr>\n",
              "    <tr>\n",
              "      <th>1</th>\n",
              "      <td>56.5</td>\n",
              "      <td>-74.000777</td>\n",
              "      <td>40.728885</td>\n",
              "      <td>-74.138033</td>\n",
              "      <td>40.550097</td>\n",
              "      <td>5</td>\n",
              "    </tr>\n",
              "    <tr>\n",
              "      <th>2</th>\n",
              "      <td>8.5</td>\n",
              "      <td>-73.978781</td>\n",
              "      <td>40.766801</td>\n",
              "      <td>-73.953289</td>\n",
              "      <td>40.788527</td>\n",
              "      <td>1</td>\n",
              "    </tr>\n",
              "    <tr>\n",
              "      <th>4</th>\n",
              "      <td>6.5</td>\n",
              "      <td>-73.897678</td>\n",
              "      <td>40.752456</td>\n",
              "      <td>-73.897678</td>\n",
              "      <td>40.752456</td>\n",
              "      <td>1</td>\n",
              "    </tr>\n",
              "    <tr>\n",
              "      <th>5</th>\n",
              "      <td>8.5</td>\n",
              "      <td>-73.967647</td>\n",
              "      <td>40.763077</td>\n",
              "      <td>-73.977438</td>\n",
              "      <td>40.787097</td>\n",
              "      <td>2</td>\n",
              "    </tr>\n",
              "    <tr>\n",
              "      <th>...</th>\n",
              "      <td>...</td>\n",
              "      <td>...</td>\n",
              "      <td>...</td>\n",
              "      <td>...</td>\n",
              "      <td>...</td>\n",
              "      <td>...</td>\n",
              "    </tr>\n",
              "    <tr>\n",
              "      <th>417994</th>\n",
              "      <td>4.9</td>\n",
              "      <td>-73.983748</td>\n",
              "      <td>40.760578</td>\n",
              "      <td>-73.995802</td>\n",
              "      <td>40.759285</td>\n",
              "      <td>1</td>\n",
              "    </tr>\n",
              "    <tr>\n",
              "      <th>417995</th>\n",
              "      <td>6.0</td>\n",
              "      <td>-73.978882</td>\n",
              "      <td>40.754275</td>\n",
              "      <td>-73.967487</td>\n",
              "      <td>40.757452</td>\n",
              "      <td>1</td>\n",
              "    </tr>\n",
              "    <tr>\n",
              "      <th>417996</th>\n",
              "      <td>25.0</td>\n",
              "      <td>-73.960121</td>\n",
              "      <td>40.710621</td>\n",
              "      <td>-73.977768</td>\n",
              "      <td>40.763439</td>\n",
              "      <td>1</td>\n",
              "    </tr>\n",
              "    <tr>\n",
              "      <th>417997</th>\n",
              "      <td>14.1</td>\n",
              "      <td>-73.976267</td>\n",
              "      <td>40.714955</td>\n",
              "      <td>-73.990797</td>\n",
              "      <td>40.723652</td>\n",
              "      <td>4</td>\n",
              "    </tr>\n",
              "    <tr>\n",
              "      <th>417998</th>\n",
              "      <td>6.9</td>\n",
              "      <td>-74.005084</td>\n",
              "      <td>40.746552</td>\n",
              "      <td>-73.979784</td>\n",
              "      <td>40.739883</td>\n",
              "      <td>1</td>\n",
              "    </tr>\n",
              "  </tbody>\n",
              "</table>\n",
              "<p>408244 rows × 6 columns</p>\n",
              "</div>"
            ],
            "text/plain": [
              "        fare_amount  pickup_longitude  ...  dropoff_latitude  passenger_count\n",
              "0              10.5        -73.978400  ...         40.713600                1\n",
              "1              56.5        -74.000777  ...         40.550097                5\n",
              "2               8.5        -73.978781  ...         40.788527                1\n",
              "4               6.5        -73.897678  ...         40.752456                1\n",
              "5               8.5        -73.967647  ...         40.787097                2\n",
              "...             ...               ...  ...               ...              ...\n",
              "417994          4.9        -73.983748  ...         40.759285                1\n",
              "417995          6.0        -73.978882  ...         40.757452                1\n",
              "417996         25.0        -73.960121  ...         40.763439                1\n",
              "417997         14.1        -73.976267  ...         40.723652                4\n",
              "417998          6.9        -74.005084  ...         40.739883                1\n",
              "\n",
              "[408244 rows x 6 columns]"
            ]
          },
          "metadata": {
            "tags": []
          },
          "execution_count": 265
        }
      ]
    },
    {
      "cell_type": "code",
      "metadata": {
        "id": "-iiQ8GtEAMaA"
      },
      "source": [
        "import math\n",
        "y = pd.DataFrame(df[\"fare_amount\"])\n",
        "#X = math.sqrt(((df[\"pickup_longitude\"]-df[\"dropoff_longitude\"])**2)+((df[\"dropoff_latitude\"]-df[\"pickup_latitude\"])**2))\n",
        "X = []\n",
        "for i in y[\"fare_amount\"].index:\n",
        "  a = math.sqrt(((df[\"pickup_longitude\"][i]-df[\"dropoff_longitude\"][i])**2)+((df[\"dropoff_latitude\"][i]-df[\"pickup_latitude\"][i])**2))\n",
        "  X.append(a)\n",
        "\n",
        "X = np.array(X)\n"
      ],
      "execution_count": null,
      "outputs": []
    },
    {
      "cell_type": "code",
      "metadata": {
        "colab": {
          "base_uri": "https://localhost:8080/",
          "height": 419
        },
        "id": "JfBzrchaCs12",
        "outputId": "90c23237-5263-439b-b361-e4036cd058bb"
      },
      "source": [
        "y"
      ],
      "execution_count": null,
      "outputs": [
        {
          "output_type": "execute_result",
          "data": {
            "text/html": [
              "<div>\n",
              "<style scoped>\n",
              "    .dataframe tbody tr th:only-of-type {\n",
              "        vertical-align: middle;\n",
              "    }\n",
              "\n",
              "    .dataframe tbody tr th {\n",
              "        vertical-align: top;\n",
              "    }\n",
              "\n",
              "    .dataframe thead th {\n",
              "        text-align: right;\n",
              "    }\n",
              "</style>\n",
              "<table border=\"1\" class=\"dataframe\">\n",
              "  <thead>\n",
              "    <tr style=\"text-align: right;\">\n",
              "      <th></th>\n",
              "      <th>fare_amount</th>\n",
              "    </tr>\n",
              "  </thead>\n",
              "  <tbody>\n",
              "    <tr>\n",
              "      <th>0</th>\n",
              "      <td>10.5</td>\n",
              "    </tr>\n",
              "    <tr>\n",
              "      <th>1</th>\n",
              "      <td>56.5</td>\n",
              "    </tr>\n",
              "    <tr>\n",
              "      <th>2</th>\n",
              "      <td>8.5</td>\n",
              "    </tr>\n",
              "    <tr>\n",
              "      <th>4</th>\n",
              "      <td>6.5</td>\n",
              "    </tr>\n",
              "    <tr>\n",
              "      <th>5</th>\n",
              "      <td>8.5</td>\n",
              "    </tr>\n",
              "    <tr>\n",
              "      <th>...</th>\n",
              "      <td>...</td>\n",
              "    </tr>\n",
              "    <tr>\n",
              "      <th>417994</th>\n",
              "      <td>4.9</td>\n",
              "    </tr>\n",
              "    <tr>\n",
              "      <th>417995</th>\n",
              "      <td>6.0</td>\n",
              "    </tr>\n",
              "    <tr>\n",
              "      <th>417996</th>\n",
              "      <td>25.0</td>\n",
              "    </tr>\n",
              "    <tr>\n",
              "      <th>417997</th>\n",
              "      <td>14.1</td>\n",
              "    </tr>\n",
              "    <tr>\n",
              "      <th>417998</th>\n",
              "      <td>6.9</td>\n",
              "    </tr>\n",
              "  </tbody>\n",
              "</table>\n",
              "<p>408244 rows × 1 columns</p>\n",
              "</div>"
            ],
            "text/plain": [
              "        fare_amount\n",
              "0              10.5\n",
              "1              56.5\n",
              "2               8.5\n",
              "4               6.5\n",
              "5               8.5\n",
              "...             ...\n",
              "417994          4.9\n",
              "417995          6.0\n",
              "417996         25.0\n",
              "417997         14.1\n",
              "417998          6.9\n",
              "\n",
              "[408244 rows x 1 columns]"
            ]
          },
          "metadata": {
            "tags": []
          },
          "execution_count": 271
        }
      ]
    },
    {
      "cell_type": "code",
      "metadata": {
        "colab": {
          "base_uri": "https://localhost:8080/"
        },
        "id": "dh6JeDiSDP4l",
        "outputId": "548579b5-86e1-4d5a-b0d8-7ffd58bb0228"
      },
      "source": [
        "X"
      ],
      "execution_count": null,
      "outputs": [
        {
          "output_type": "execute_result",
          "data": {
            "text/plain": [
              "array([0.04981988, 0.22539822, 0.0334942 , ..., 0.05568826, 0.01693395,\n",
              "       0.0261642 ])"
            ]
          },
          "metadata": {
            "tags": []
          },
          "execution_count": 272
        }
      ]
    },
    {
      "cell_type": "code",
      "metadata": {
        "colab": {
          "base_uri": "https://localhost:8080/",
          "height": 419
        },
        "id": "W7fLP2BMD2F9",
        "outputId": "ea381f42-4836-495d-c236-3a328d70eceb"
      },
      "source": [
        "new_df = y\n",
        "new_df[\"distance\"] = X\n",
        "new_df"
      ],
      "execution_count": null,
      "outputs": [
        {
          "output_type": "execute_result",
          "data": {
            "text/html": [
              "<div>\n",
              "<style scoped>\n",
              "    .dataframe tbody tr th:only-of-type {\n",
              "        vertical-align: middle;\n",
              "    }\n",
              "\n",
              "    .dataframe tbody tr th {\n",
              "        vertical-align: top;\n",
              "    }\n",
              "\n",
              "    .dataframe thead th {\n",
              "        text-align: right;\n",
              "    }\n",
              "</style>\n",
              "<table border=\"1\" class=\"dataframe\">\n",
              "  <thead>\n",
              "    <tr style=\"text-align: right;\">\n",
              "      <th></th>\n",
              "      <th>fare_amount</th>\n",
              "      <th>distance</th>\n",
              "    </tr>\n",
              "  </thead>\n",
              "  <tbody>\n",
              "    <tr>\n",
              "      <th>0</th>\n",
              "      <td>10.5</td>\n",
              "      <td>0.049820</td>\n",
              "    </tr>\n",
              "    <tr>\n",
              "      <th>1</th>\n",
              "      <td>56.5</td>\n",
              "      <td>0.225398</td>\n",
              "    </tr>\n",
              "    <tr>\n",
              "      <th>2</th>\n",
              "      <td>8.5</td>\n",
              "      <td>0.033494</td>\n",
              "    </tr>\n",
              "    <tr>\n",
              "      <th>4</th>\n",
              "      <td>6.5</td>\n",
              "      <td>0.000000</td>\n",
              "    </tr>\n",
              "    <tr>\n",
              "      <th>5</th>\n",
              "      <td>8.5</td>\n",
              "      <td>0.025939</td>\n",
              "    </tr>\n",
              "    <tr>\n",
              "      <th>...</th>\n",
              "      <td>...</td>\n",
              "      <td>...</td>\n",
              "    </tr>\n",
              "    <tr>\n",
              "      <th>417994</th>\n",
              "      <td>4.9</td>\n",
              "      <td>0.012123</td>\n",
              "    </tr>\n",
              "    <tr>\n",
              "      <th>417995</th>\n",
              "      <td>6.0</td>\n",
              "      <td>0.011830</td>\n",
              "    </tr>\n",
              "    <tr>\n",
              "      <th>417996</th>\n",
              "      <td>25.0</td>\n",
              "      <td>0.055688</td>\n",
              "    </tr>\n",
              "    <tr>\n",
              "      <th>417997</th>\n",
              "      <td>14.1</td>\n",
              "      <td>0.016934</td>\n",
              "    </tr>\n",
              "    <tr>\n",
              "      <th>417998</th>\n",
              "      <td>6.9</td>\n",
              "      <td>0.026164</td>\n",
              "    </tr>\n",
              "  </tbody>\n",
              "</table>\n",
              "<p>408244 rows × 2 columns</p>\n",
              "</div>"
            ],
            "text/plain": [
              "        fare_amount  distance\n",
              "0              10.5  0.049820\n",
              "1              56.5  0.225398\n",
              "2               8.5  0.033494\n",
              "4               6.5  0.000000\n",
              "5               8.5  0.025939\n",
              "...             ...       ...\n",
              "417994          4.9  0.012123\n",
              "417995          6.0  0.011830\n",
              "417996         25.0  0.055688\n",
              "417997         14.1  0.016934\n",
              "417998          6.9  0.026164\n",
              "\n",
              "[408244 rows x 2 columns]"
            ]
          },
          "metadata": {
            "tags": []
          },
          "execution_count": 275
        }
      ]
    },
    {
      "cell_type": "code",
      "metadata": {
        "colab": {
          "base_uri": "https://localhost:8080/",
          "height": 282
        },
        "id": "jwqhPRm_BT25",
        "outputId": "5a5138a0-1a25-4390-a9a9-1e54281b8e86"
      },
      "source": [
        "plt.scatter(new_df[\"distance\"],new_df[\"fare_amount\"])"
      ],
      "execution_count": null,
      "outputs": [
        {
          "output_type": "execute_result",
          "data": {
            "text/plain": [
              "<matplotlib.collections.PathCollection at 0x7facee042278>"
            ]
          },
          "metadata": {
            "tags": []
          },
          "execution_count": 276
        },
        {
          "output_type": "display_data",
          "data": {
            "image/png": "[encoded data removed]",
            "text/plain": [
              "<Figure size 432x288 with 1 Axes>"
            ]
          },
          "metadata": {
            "tags": [],
            "needs_background": "light"
          }
        }
      ]
    },
    {
      "cell_type": "code",
      "metadata": {
        "id": "4CffvxOBBoBu"
      },
      "source": [
        "x_min_10 = []\n",
        "y_min_10 = []\n",
        "for i in new_df[\"fare_amount\"].index:\n",
        "  if(new_df[\"distance\"][i] <= 10):\n",
        "    x_min_10.append(new_df[\"distance\"][i])\n",
        "    y_min_10.append(new_df[\"fare_amount\"][i])\n",
        "x_min_10\n"
      ],
      "execution_count": null,
      "outputs": []
    },
    {
      "cell_type": "code",
      "metadata": {
        "colab": {
          "base_uri": "https://localhost:8080/",
          "height": 282
        },
        "id": "ep8YcorqCh0t",
        "outputId": "6634aebf-099c-4ac7-e7ce-ea620ba6aaea"
      },
      "source": [
        "plt.scatter(x_min_10,y_min_10)"
      ],
      "execution_count": null,
      "outputs": [
        {
          "output_type": "execute_result",
          "data": {
            "text/plain": [
              "<matplotlib.collections.PathCollection at 0x7facfed5f710>"
            ]
          },
          "metadata": {
            "tags": []
          },
          "execution_count": 280
        },
        {
          "output_type": "display_data",
          "data": {
            "image/png": "[encoded data removed]",
            "text/plain": [
              "<Figure size 432x288 with 1 Axes>"
            ]
          },
          "metadata": {
            "tags": [],
            "needs_background": "light"
          }
        }
      ]
    },
    {
      "cell_type": "code",
      "metadata": {
        "colab": {
          "base_uri": "https://localhost:8080/"
        },
        "id": "rZaNN2z8Flmf",
        "outputId": "a3fdb334-f4c1-4ec0-be71-891c3d27e5e0"
      },
      "source": [
        "from sklearn.preprocessing import PolynomialFeatures\n",
        "from sklearn.pipeline import make_pipeline\n",
        "from sklearn.linear_model import LinearRegression\n",
        "degree=1\n",
        "n_X = np.array(x_min_10).reshape(-1,1)\n",
        "n_y = np.array(y_min_10).reshape(-1,1)\n",
        "polyreg=make_pipeline(PolynomialFeatures(degree),LinearRegression())\n",
        "polyreg.fit(n_X,n_y)"
      ],
      "execution_count": null,
      "outputs": [
        {
          "output_type": "execute_result",
          "data": {
            "text/plain": [
              "Pipeline(memory=None,\n",
              "         steps=[('polynomialfeatures',\n",
              "                 PolynomialFeatures(degree=1, include_bias=True,\n",
              "                                    interaction_only=False, order='C')),\n",
              "                ('linearregression',\n",
              "                 LinearRegression(copy_X=True, fit_intercept=True, n_jobs=None,\n",
              "                                  normalize=False))],\n",
              "         verbose=False)"
            ]
          },
          "metadata": {
            "tags": []
          },
          "execution_count": 289
        }
      ]
    },
    {
      "cell_type": "code",
      "metadata": {
        "colab": {
          "base_uri": "https://localhost:8080/",
          "height": 281
        },
        "id": "ErEpgjBtGMI9",
        "outputId": "11d7101c-9bee-43d1-b644-e8d33d405d6e"
      },
      "source": [
        "import matplotlib.pyplot as plt\n",
        "X_s = n_X\n",
        "plt.figure()\n",
        "plt.scatter(n_X,n_y)\n",
        "plt.plot(X_s,polyreg.predict(X_s),color=\"black\")\n",
        "plt.title(\"Polynomial regression with degree \"+str(degree))\n",
        "plt.show()"
      ],
      "execution_count": null,
      "outputs": [
        {
          "output_type": "display_data",
          "data": {
            "image/png": "[encoded data removed]",
            "text/plain": [
              "<Figure size 432x288 with 1 Axes>"
            ]
          },
          "metadata": {
            "tags": [],
            "needs_background": "light"
          }
        }
      ]
    },
    {
      "cell_type": "code",
      "metadata": {
        "colab": {
          "base_uri": "https://localhost:8080/"
        },
        "id": "opvUmFvGGhsP",
        "outputId": "12026e52-d1ea-48a3-af5e-c62ec49ee5ec"
      },
      "source": [
        "result2 = polyreg.predict(X_s)\n",
        "result2"
      ],
      "execution_count": null,
      "outputs": [
        {
          "output_type": "execute_result",
          "data": {
            "text/plain": [
              "array([[13.63785659],\n",
              "       [39.83652253],\n",
              "       [11.20184415],\n",
              "       ...,\n",
              "       [14.51349834],\n",
              "       [ 8.73083155],\n",
              "       [10.10811016]])"
            ]
          },
          "metadata": {
            "tags": []
          },
          "execution_count": 291
        }
      ]
    },
    {
      "cell_type": "code",
      "metadata": {
        "colab": {
          "base_uri": "https://localhost:8080/",
          "height": 419
        },
        "id": "SfqcGe-KHyed",
        "outputId": "26413e55-c032-4ba1-b3a8-1e78725412f1"
      },
      "source": [
        "df = pd.read_csv('test_small.csv')\n",
        "df"
      ],
      "execution_count": null,
      "outputs": [
        {
          "output_type": "execute_result",
          "data": {
            "text/html": [
              "<div>\n",
              "<style scoped>\n",
              "    .dataframe tbody tr th:only-of-type {\n",
              "        vertical-align: middle;\n",
              "    }\n",
              "\n",
              "    .dataframe tbody tr th {\n",
              "        vertical-align: top;\n",
              "    }\n",
              "\n",
              "    .dataframe thead th {\n",
              "        text-align: right;\n",
              "    }\n",
              "</style>\n",
              "<table border=\"1\" class=\"dataframe\">\n",
              "  <thead>\n",
              "    <tr style=\"text-align: right;\">\n",
              "      <th></th>\n",
              "      <th>key</th>\n",
              "      <th>pickup_datetime</th>\n",
              "      <th>pickup_longitude</th>\n",
              "      <th>pickup_latitude</th>\n",
              "      <th>dropoff_longitude</th>\n",
              "      <th>dropoff_latitude</th>\n",
              "      <th>passenger_count</th>\n",
              "    </tr>\n",
              "  </thead>\n",
              "  <tbody>\n",
              "    <tr>\n",
              "      <th>0</th>\n",
              "      <td>2009-06-15 17:26:21.0000001</td>\n",
              "      <td>2009-06-15 17:26:21 UTC</td>\n",
              "      <td>-73.844311</td>\n",
              "      <td>40.721319</td>\n",
              "      <td>-73.841610</td>\n",
              "      <td>40.712278</td>\n",
              "      <td>1</td>\n",
              "    </tr>\n",
              "    <tr>\n",
              "      <th>1</th>\n",
              "      <td>2010-01-05 16:52:16.0000002</td>\n",
              "      <td>2010-01-05 16:52:16 UTC</td>\n",
              "      <td>-74.016048</td>\n",
              "      <td>40.711303</td>\n",
              "      <td>-73.979268</td>\n",
              "      <td>40.782004</td>\n",
              "      <td>1</td>\n",
              "    </tr>\n",
              "    <tr>\n",
              "      <th>2</th>\n",
              "      <td>2011-08-18 00:35:00.00000049</td>\n",
              "      <td>2011-08-18 00:35:00 UTC</td>\n",
              "      <td>-73.982738</td>\n",
              "      <td>40.761270</td>\n",
              "      <td>-73.991242</td>\n",
              "      <td>40.750562</td>\n",
              "      <td>2</td>\n",
              "    </tr>\n",
              "    <tr>\n",
              "      <th>3</th>\n",
              "      <td>2012-04-21 04:30:42.0000001</td>\n",
              "      <td>2012-04-21 04:30:42 UTC</td>\n",
              "      <td>-73.987130</td>\n",
              "      <td>40.733143</td>\n",
              "      <td>-73.991567</td>\n",
              "      <td>40.758092</td>\n",
              "      <td>1</td>\n",
              "    </tr>\n",
              "    <tr>\n",
              "      <th>4</th>\n",
              "      <td>2010-03-09 07:51:00.000000135</td>\n",
              "      <td>2010-03-09 07:51:00 UTC</td>\n",
              "      <td>-73.968095</td>\n",
              "      <td>40.768008</td>\n",
              "      <td>-73.956655</td>\n",
              "      <td>40.783762</td>\n",
              "      <td>1</td>\n",
              "    </tr>\n",
              "    <tr>\n",
              "      <th>...</th>\n",
              "      <td>...</td>\n",
              "      <td>...</td>\n",
              "      <td>...</td>\n",
              "      <td>...</td>\n",
              "      <td>...</td>\n",
              "      <td>...</td>\n",
              "      <td>...</td>\n",
              "    </tr>\n",
              "    <tr>\n",
              "      <th>9994</th>\n",
              "      <td>2010-08-27 08:45:01.0000004</td>\n",
              "      <td>2010-08-27 08:45:01 UTC</td>\n",
              "      <td>-73.983616</td>\n",
              "      <td>40.756005</td>\n",
              "      <td>-73.976169</td>\n",
              "      <td>40.763282</td>\n",
              "      <td>1</td>\n",
              "    </tr>\n",
              "    <tr>\n",
              "      <th>9995</th>\n",
              "      <td>2011-10-26 10:44:00.00000086</td>\n",
              "      <td>2011-10-26 10:44:00 UTC</td>\n",
              "      <td>-73.988277</td>\n",
              "      <td>40.748970</td>\n",
              "      <td>-73.963712</td>\n",
              "      <td>40.773958</td>\n",
              "      <td>2</td>\n",
              "    </tr>\n",
              "    <tr>\n",
              "      <th>9996</th>\n",
              "      <td>2011-12-16 15:37:00.000000179</td>\n",
              "      <td>2011-12-16 15:37:00 UTC</td>\n",
              "      <td>-74.002112</td>\n",
              "      <td>40.748727</td>\n",
              "      <td>-73.992467</td>\n",
              "      <td>40.756252</td>\n",
              "      <td>1</td>\n",
              "    </tr>\n",
              "    <tr>\n",
              "      <th>9997</th>\n",
              "      <td>2013-11-16 22:47:17.0000001</td>\n",
              "      <td>2013-11-16 22:47:17 UTC</td>\n",
              "      <td>-73.992093</td>\n",
              "      <td>40.729071</td>\n",
              "      <td>-73.974470</td>\n",
              "      <td>40.763050</td>\n",
              "      <td>2</td>\n",
              "    </tr>\n",
              "    <tr>\n",
              "      <th>9998</th>\n",
              "      <td>2010-01-28 11:38:00.00000022</td>\n",
              "      <td>2010-01-28 11:38:00 UTC</td>\n",
              "      <td>-73.992548</td>\n",
              "      <td>40.735652</td>\n",
              "      <td>-73.998802</td>\n",
              "      <td>40.723085</td>\n",
              "      <td>1</td>\n",
              "    </tr>\n",
              "  </tbody>\n",
              "</table>\n",
              "<p>9999 rows × 7 columns</p>\n",
              "</div>"
            ],
            "text/plain": [
              "                                key  ... passenger_count\n",
              "0       2009-06-15 17:26:21.0000001  ...               1\n",
              "1       2010-01-05 16:52:16.0000002  ...               1\n",
              "2      2011-08-18 00:35:00.00000049  ...               2\n",
              "3       2012-04-21 04:30:42.0000001  ...               1\n",
              "4     2010-03-09 07:51:00.000000135  ...               1\n",
              "...                             ...  ...             ...\n",
              "9994    2010-08-27 08:45:01.0000004  ...               1\n",
              "9995   2011-10-26 10:44:00.00000086  ...               2\n",
              "9996  2011-12-16 15:37:00.000000179  ...               1\n",
              "9997    2013-11-16 22:47:17.0000001  ...               2\n",
              "9998   2010-01-28 11:38:00.00000022  ...               1\n",
              "\n",
              "[9999 rows x 7 columns]"
            ]
          },
          "metadata": {
            "tags": []
          },
          "execution_count": 299
        }
      ]
    },
    {
      "cell_type": "code",
      "metadata": {
        "colab": {
          "base_uri": "https://localhost:8080/",
          "height": 419
        },
        "id": "8r_uuEP-HKu3",
        "outputId": "4d20cc5d-6078-4b37-a296-388847becc6d"
      },
      "source": [
        "import numpy as np\n",
        "from sklearn.linear_model import LinearRegression\n",
        "import pandas as pd\n",
        "df = pd.read_csv('test_small.csv')\n",
        "df"
      ],
      "execution_count": null,
      "outputs": [
        {
          "output_type": "execute_result",
          "data": {
            "text/html": [
              "<div>\n",
              "<style scoped>\n",
              "    .dataframe tbody tr th:only-of-type {\n",
              "        vertical-align: middle;\n",
              "    }\n",
              "\n",
              "    .dataframe tbody tr th {\n",
              "        vertical-align: top;\n",
              "    }\n",
              "\n",
              "    .dataframe thead th {\n",
              "        text-align: right;\n",
              "    }\n",
              "</style>\n",
              "<table border=\"1\" class=\"dataframe\">\n",
              "  <thead>\n",
              "    <tr style=\"text-align: right;\">\n",
              "      <th></th>\n",
              "      <th>key</th>\n",
              "      <th>pickup_datetime</th>\n",
              "      <th>pickup_longitude</th>\n",
              "      <th>pickup_latitude</th>\n",
              "      <th>dropoff_longitude</th>\n",
              "      <th>dropoff_latitude</th>\n",
              "      <th>passenger_count</th>\n",
              "    </tr>\n",
              "  </thead>\n",
              "  <tbody>\n",
              "    <tr>\n",
              "      <th>0</th>\n",
              "      <td>2009-06-15 17:26:21.0000001</td>\n",
              "      <td>2009-06-15 17:26:21 UTC</td>\n",
              "      <td>-73.844311</td>\n",
              "      <td>40.721319</td>\n",
              "      <td>-73.841610</td>\n",
              "      <td>40.712278</td>\n",
              "      <td>1</td>\n",
              "    </tr>\n",
              "    <tr>\n",
              "      <th>1</th>\n",
              "      <td>2010-01-05 16:52:16.0000002</td>\n",
              "      <td>2010-01-05 16:52:16 UTC</td>\n",
              "      <td>-74.016048</td>\n",
              "      <td>40.711303</td>\n",
              "      <td>-73.979268</td>\n",
              "      <td>40.782004</td>\n",
              "      <td>1</td>\n",
              "    </tr>\n",
              "    <tr>\n",
              "      <th>2</th>\n",
              "      <td>2011-08-18 00:35:00.00000049</td>\n",
              "      <td>2011-08-18 00:35:00 UTC</td>\n",
              "      <td>-73.982738</td>\n",
              "      <td>40.761270</td>\n",
              "      <td>-73.991242</td>\n",
              "      <td>40.750562</td>\n",
              "      <td>2</td>\n",
              "    </tr>\n",
              "    <tr>\n",
              "      <th>3</th>\n",
              "      <td>2012-04-21 04:30:42.0000001</td>\n",
              "      <td>2012-04-21 04:30:42 UTC</td>\n",
              "      <td>-73.987130</td>\n",
              "      <td>40.733143</td>\n",
              "      <td>-73.991567</td>\n",
              "      <td>40.758092</td>\n",
              "      <td>1</td>\n",
              "    </tr>\n",
              "    <tr>\n",
              "      <th>4</th>\n",
              "      <td>2010-03-09 07:51:00.000000135</td>\n",
              "      <td>2010-03-09 07:51:00 UTC</td>\n",
              "      <td>-73.968095</td>\n",
              "      <td>40.768008</td>\n",
              "      <td>-73.956655</td>\n",
              "      <td>40.783762</td>\n",
              "      <td>1</td>\n",
              "    </tr>\n",
              "    <tr>\n",
              "      <th>...</th>\n",
              "      <td>...</td>\n",
              "      <td>...</td>\n",
              "      <td>...</td>\n",
              "      <td>...</td>\n",
              "      <td>...</td>\n",
              "      <td>...</td>\n",
              "      <td>...</td>\n",
              "    </tr>\n",
              "    <tr>\n",
              "      <th>9994</th>\n",
              "      <td>2010-08-27 08:45:01.0000004</td>\n",
              "      <td>2010-08-27 08:45:01 UTC</td>\n",
              "      <td>-73.983616</td>\n",
              "      <td>40.756005</td>\n",
              "      <td>-73.976169</td>\n",
              "      <td>40.763282</td>\n",
              "      <td>1</td>\n",
              "    </tr>\n",
              "    <tr>\n",
              "      <th>9995</th>\n",
              "      <td>2011-10-26 10:44:00.00000086</td>\n",
              "      <td>2011-10-26 10:44:00 UTC</td>\n",
              "      <td>-73.988277</td>\n",
              "      <td>40.748970</td>\n",
              "      <td>-73.963712</td>\n",
              "      <td>40.773958</td>\n",
              "      <td>2</td>\n",
              "    </tr>\n",
              "    <tr>\n",
              "      <th>9996</th>\n",
              "      <td>2011-12-16 15:37:00.000000179</td>\n",
              "      <td>2011-12-16 15:37:00 UTC</td>\n",
              "      <td>-74.002112</td>\n",
              "      <td>40.748727</td>\n",
              "      <td>-73.992467</td>\n",
              "      <td>40.756252</td>\n",
              "      <td>1</td>\n",
              "    </tr>\n",
              "    <tr>\n",
              "      <th>9997</th>\n",
              "      <td>2013-11-16 22:47:17.0000001</td>\n",
              "      <td>2013-11-16 22:47:17 UTC</td>\n",
              "      <td>-73.992093</td>\n",
              "      <td>40.729071</td>\n",
              "      <td>-73.974470</td>\n",
              "      <td>40.763050</td>\n",
              "      <td>2</td>\n",
              "    </tr>\n",
              "    <tr>\n",
              "      <th>9998</th>\n",
              "      <td>2010-01-28 11:38:00.00000022</td>\n",
              "      <td>2010-01-28 11:38:00 UTC</td>\n",
              "      <td>-73.992548</td>\n",
              "      <td>40.735652</td>\n",
              "      <td>-73.998802</td>\n",
              "      <td>40.723085</td>\n",
              "      <td>1</td>\n",
              "    </tr>\n",
              "  </tbody>\n",
              "</table>\n",
              "<p>9999 rows × 7 columns</p>\n",
              "</div>"
            ],
            "text/plain": [
              "                                key  ... passenger_count\n",
              "0       2009-06-15 17:26:21.0000001  ...               1\n",
              "1       2010-01-05 16:52:16.0000002  ...               1\n",
              "2      2011-08-18 00:35:00.00000049  ...               2\n",
              "3       2012-04-21 04:30:42.0000001  ...               1\n",
              "4     2010-03-09 07:51:00.000000135  ...               1\n",
              "...                             ...  ...             ...\n",
              "9994    2010-08-27 08:45:01.0000004  ...               1\n",
              "9995   2011-10-26 10:44:00.00000086  ...               2\n",
              "9996  2011-12-16 15:37:00.000000179  ...               1\n",
              "9997    2013-11-16 22:47:17.0000001  ...               2\n",
              "9998   2010-01-28 11:38:00.00000022  ...               1\n",
              "\n",
              "[9999 rows x 7 columns]"
            ]
          },
          "metadata": {
            "tags": []
          },
          "execution_count": 327
        }
      ]
    },
    {
      "cell_type": "code",
      "metadata": {
        "id": "2nb9Yz9FG1yQ"
      },
      "source": [
        "import math\n",
        "\n",
        "#X = math.sqrt(((df[\"pickup_longitude\"]-df[\"dropoff_longitude\"])**2)+((df[\"dropoff_latitude\"]-df[\"pickup_latitude\"])**2))\n",
        "X = []\n",
        "for i in df[\"pickup_longitude\"].index:\n",
        "  a = math.sqrt(((df[\"pickup_longitude\"][i]-df[\"dropoff_longitude\"][i])**2)+((df[\"dropoff_latitude\"][i]-df[\"pickup_latitude\"][i])**2))\n",
        "  X.append(a)\n",
        "\n",
        "X = np.array(X)"
      ],
      "execution_count": null,
      "outputs": []
    },
    {
      "cell_type": "code",
      "metadata": {
        "colab": {
          "base_uri": "https://localhost:8080/"
        },
        "id": "tSdIeU7zHce3",
        "outputId": "b8a0ce4d-224a-45ec-c24d-d2441fb185ea"
      },
      "source": [
        "X = np.array(X).reshape(-1,1)\n",
        "X"
      ],
      "execution_count": null,
      "outputs": [
        {
          "output_type": "execute_result",
          "data": {
            "text/plain": [
              "array([[0.00943584],\n",
              "       [0.07969567],\n",
              "       [0.01367404],\n",
              "       ...,\n",
              "       [0.01223322],\n",
              "       [0.03827718],\n",
              "       [0.01403717]])"
            ]
          },
          "metadata": {
            "tags": []
          },
          "execution_count": 329
        }
      ]
    },
    {
      "cell_type": "code",
      "metadata": {
        "colab": {
          "base_uri": "https://localhost:8080/",
          "height": 281
        },
        "id": "0Dfk7DUHIVKP",
        "outputId": "61a04c00-4bb7-46bf-9444-0c6b30bd6f42"
      },
      "source": [
        "import matplotlib.pyplot as plt\n",
        "X_s = X\n",
        "plt.figure()\n",
        "plt.scatter(n_X,n_y)\n",
        "plt.plot(X_s,polyreg.predict(X_s),color=\"black\")\n",
        "plt.title(\"Polynomial regression with degree \"+str(degree))\n",
        "plt.show()"
      ],
      "execution_count": null,
      "outputs": [
        {
          "output_type": "display_data",
          "data": {
            "image/png": "[encoded data removed]",
            "text/plain": [
              "<Figure size 432x288 with 1 Axes>"
            ]
          },
          "metadata": {
            "tags": [],
            "needs_background": "light"
          }
        }
      ]
    },
    {
      "cell_type": "code",
      "metadata": {
        "colab": {
          "base_uri": "https://localhost:8080/"
        },
        "id": "r1wd8Gd1IqSs",
        "outputId": "a3bf31f1-cd49-4a7a-c070-300a8f7057e3"
      },
      "source": [
        "result4 = polyreg.predict(X_s)\n",
        "result4"
      ],
      "execution_count": null,
      "outputs": [
        {
          "output_type": "execute_result",
          "data": {
            "text/plain": [
              "array([[ 7.61201188],\n",
              "       [18.09572951],\n",
              "       [ 8.24440816],\n",
              "       ...,\n",
              "       [ 8.02941867],\n",
              "       [11.91553029],\n",
              "       [ 8.29859183]])"
            ]
          },
          "metadata": {
            "tags": []
          },
          "execution_count": 331
        }
      ]
    },
    {
      "cell_type": "code",
      "metadata": {
        "id": "spbR44ojI4R_"
      },
      "source": [
        "from google.colab import files\n",
        "import csv\n",
        "send = pd.DataFrame(result4)\n",
        "send.to_csv('send4.csv', index=False)"
      ],
      "execution_count": null,
      "outputs": []
    },
    {
      "cell_type": "markdown",
      "metadata": {
        "id": "qGT806CyLE29"
      },
      "source": [
        "###วิธีที่2"
      ]
    },
    {
      "cell_type": "code",
      "metadata": {
        "colab": {
          "base_uri": "https://localhost:8080/",
          "height": 419
        },
        "id": "1JIH1TvXLIoT",
        "outputId": "baaa60f7-75c8-4b28-9c83-01a562edd158"
      },
      "source": [
        "import numpy as np\n",
        "from sklearn.linear_model import LinearRegression\n",
        "import pandas as pd\n",
        "\n",
        "data = pd.read_csv('train_small.csv')\n",
        "##X = np.array([[1, 1], [1, 2], [2, 2], [2, 3]])\n",
        "##y = np.dot(X, np.array([1, 2])) + 3\n",
        "##reg = LinearRegression().fit(X, y)\n",
        "\n",
        "#df = data.drop(columns=['key','pickup_longitude','pickup_latitude','dropoff_longitude','dropoff_latitude','passenger_count'])\n",
        "df = data.drop(columns=['key','pickup_datetime'])\n",
        "df = df[(df.T != 0).all()]\n",
        "df = df[(df.T <= 180).all()]\n",
        "df = df[(df.T >= -180).all()]\n",
        "df"
      ],
      "execution_count": null,
      "outputs": [
        {
          "output_type": "execute_result",
          "data": {
            "text/html": [
              "<div>\n",
              "<style scoped>\n",
              "    .dataframe tbody tr th:only-of-type {\n",
              "        vertical-align: middle;\n",
              "    }\n",
              "\n",
              "    .dataframe tbody tr th {\n",
              "        vertical-align: top;\n",
              "    }\n",
              "\n",
              "    .dataframe thead th {\n",
              "        text-align: right;\n",
              "    }\n",
              "</style>\n",
              "<table border=\"1\" class=\"dataframe\">\n",
              "  <thead>\n",
              "    <tr style=\"text-align: right;\">\n",
              "      <th></th>\n",
              "      <th>fare_amount</th>\n",
              "      <th>pickup_longitude</th>\n",
              "      <th>pickup_latitude</th>\n",
              "      <th>dropoff_longitude</th>\n",
              "      <th>dropoff_latitude</th>\n",
              "      <th>passenger_count</th>\n",
              "    </tr>\n",
              "  </thead>\n",
              "  <tbody>\n",
              "    <tr>\n",
              "      <th>0</th>\n",
              "      <td>10.5</td>\n",
              "      <td>-73.978400</td>\n",
              "      <td>40.751700</td>\n",
              "      <td>-74.010500</td>\n",
              "      <td>40.713600</td>\n",
              "      <td>1</td>\n",
              "    </tr>\n",
              "    <tr>\n",
              "      <th>1</th>\n",
              "      <td>56.5</td>\n",
              "      <td>-74.000777</td>\n",
              "      <td>40.728885</td>\n",
              "      <td>-74.138033</td>\n",
              "      <td>40.550097</td>\n",
              "      <td>5</td>\n",
              "    </tr>\n",
              "    <tr>\n",
              "      <th>2</th>\n",
              "      <td>8.5</td>\n",
              "      <td>-73.978781</td>\n",
              "      <td>40.766801</td>\n",
              "      <td>-73.953289</td>\n",
              "      <td>40.788527</td>\n",
              "      <td>1</td>\n",
              "    </tr>\n",
              "    <tr>\n",
              "      <th>4</th>\n",
              "      <td>6.5</td>\n",
              "      <td>-73.897678</td>\n",
              "      <td>40.752456</td>\n",
              "      <td>-73.897678</td>\n",
              "      <td>40.752456</td>\n",
              "      <td>1</td>\n",
              "    </tr>\n",
              "    <tr>\n",
              "      <th>5</th>\n",
              "      <td>8.5</td>\n",
              "      <td>-73.967647</td>\n",
              "      <td>40.763077</td>\n",
              "      <td>-73.977438</td>\n",
              "      <td>40.787097</td>\n",
              "      <td>2</td>\n",
              "    </tr>\n",
              "    <tr>\n",
              "      <th>...</th>\n",
              "      <td>...</td>\n",
              "      <td>...</td>\n",
              "      <td>...</td>\n",
              "      <td>...</td>\n",
              "      <td>...</td>\n",
              "      <td>...</td>\n",
              "    </tr>\n",
              "    <tr>\n",
              "      <th>417994</th>\n",
              "      <td>4.9</td>\n",
              "      <td>-73.983748</td>\n",
              "      <td>40.760578</td>\n",
              "      <td>-73.995802</td>\n",
              "      <td>40.759285</td>\n",
              "      <td>1</td>\n",
              "    </tr>\n",
              "    <tr>\n",
              "      <th>417995</th>\n",
              "      <td>6.0</td>\n",
              "      <td>-73.978882</td>\n",
              "      <td>40.754275</td>\n",
              "      <td>-73.967487</td>\n",
              "      <td>40.757452</td>\n",
              "      <td>1</td>\n",
              "    </tr>\n",
              "    <tr>\n",
              "      <th>417996</th>\n",
              "      <td>25.0</td>\n",
              "      <td>-73.960121</td>\n",
              "      <td>40.710621</td>\n",
              "      <td>-73.977768</td>\n",
              "      <td>40.763439</td>\n",
              "      <td>1</td>\n",
              "    </tr>\n",
              "    <tr>\n",
              "      <th>417997</th>\n",
              "      <td>14.1</td>\n",
              "      <td>-73.976267</td>\n",
              "      <td>40.714955</td>\n",
              "      <td>-73.990797</td>\n",
              "      <td>40.723652</td>\n",
              "      <td>4</td>\n",
              "    </tr>\n",
              "    <tr>\n",
              "      <th>417998</th>\n",
              "      <td>6.9</td>\n",
              "      <td>-74.005084</td>\n",
              "      <td>40.746552</td>\n",
              "      <td>-73.979784</td>\n",
              "      <td>40.739883</td>\n",
              "      <td>1</td>\n",
              "    </tr>\n",
              "  </tbody>\n",
              "</table>\n",
              "<p>408244 rows × 6 columns</p>\n",
              "</div>"
            ],
            "text/plain": [
              "        fare_amount  pickup_longitude  ...  dropoff_latitude  passenger_count\n",
              "0              10.5        -73.978400  ...         40.713600                1\n",
              "1              56.5        -74.000777  ...         40.550097                5\n",
              "2               8.5        -73.978781  ...         40.788527                1\n",
              "4               6.5        -73.897678  ...         40.752456                1\n",
              "5               8.5        -73.967647  ...         40.787097                2\n",
              "...             ...               ...  ...               ...              ...\n",
              "417994          4.9        -73.983748  ...         40.759285                1\n",
              "417995          6.0        -73.978882  ...         40.757452                1\n",
              "417996         25.0        -73.960121  ...         40.763439                1\n",
              "417997         14.1        -73.976267  ...         40.723652                4\n",
              "417998          6.9        -74.005084  ...         40.739883                1\n",
              "\n",
              "[408244 rows x 6 columns]"
            ]
          },
          "metadata": {
            "tags": []
          },
          "execution_count": 308
        }
      ]
    },
    {
      "cell_type": "code",
      "metadata": {
        "id": "BW5EsSJPLRVL"
      },
      "source": [
        "import math\n",
        "y = pd.DataFrame(df[\"fare_amount\"])\n",
        "#X = math.sqrt(((df[\"pickup_longitude\"]-df[\"dropoff_longitude\"])**2)+((df[\"dropoff_latitude\"]-df[\"pickup_latitude\"])**2))\n",
        "X = []\n",
        "for i in y[\"fare_amount\"].index:\n",
        "  a = math.sqrt(((df[\"pickup_longitude\"][i]-df[\"dropoff_longitude\"][i])**2)+((df[\"dropoff_latitude\"][i]-df[\"pickup_latitude\"][i])**2))\n",
        "  X.append(a)\n",
        "\n",
        "X = np.array(X)\n"
      ],
      "execution_count": null,
      "outputs": []
    },
    {
      "cell_type": "code",
      "metadata": {
        "colab": {
          "base_uri": "https://localhost:8080/",
          "height": 419
        },
        "id": "2q2oBZfQLc7T",
        "outputId": "d5f57c8d-312e-4c3e-fdbf-dff268e701b2"
      },
      "source": [
        "new_df2 = y\n",
        "new_df2[\"distance\"] = X\n",
        "new_df2"
      ],
      "execution_count": null,
      "outputs": [
        {
          "output_type": "execute_result",
          "data": {
            "text/html": [
              "<div>\n",
              "<style scoped>\n",
              "    .dataframe tbody tr th:only-of-type {\n",
              "        vertical-align: middle;\n",
              "    }\n",
              "\n",
              "    .dataframe tbody tr th {\n",
              "        vertical-align: top;\n",
              "    }\n",
              "\n",
              "    .dataframe thead th {\n",
              "        text-align: right;\n",
              "    }\n",
              "</style>\n",
              "<table border=\"1\" class=\"dataframe\">\n",
              "  <thead>\n",
              "    <tr style=\"text-align: right;\">\n",
              "      <th></th>\n",
              "      <th>fare_amount</th>\n",
              "      <th>distance</th>\n",
              "    </tr>\n",
              "  </thead>\n",
              "  <tbody>\n",
              "    <tr>\n",
              "      <th>0</th>\n",
              "      <td>10.5</td>\n",
              "      <td>0.049820</td>\n",
              "    </tr>\n",
              "    <tr>\n",
              "      <th>1</th>\n",
              "      <td>56.5</td>\n",
              "      <td>0.225398</td>\n",
              "    </tr>\n",
              "    <tr>\n",
              "      <th>2</th>\n",
              "      <td>8.5</td>\n",
              "      <td>0.033494</td>\n",
              "    </tr>\n",
              "    <tr>\n",
              "      <th>4</th>\n",
              "      <td>6.5</td>\n",
              "      <td>0.000000</td>\n",
              "    </tr>\n",
              "    <tr>\n",
              "      <th>5</th>\n",
              "      <td>8.5</td>\n",
              "      <td>0.025939</td>\n",
              "    </tr>\n",
              "    <tr>\n",
              "      <th>...</th>\n",
              "      <td>...</td>\n",
              "      <td>...</td>\n",
              "    </tr>\n",
              "    <tr>\n",
              "      <th>417994</th>\n",
              "      <td>4.9</td>\n",
              "      <td>0.012123</td>\n",
              "    </tr>\n",
              "    <tr>\n",
              "      <th>417995</th>\n",
              "      <td>6.0</td>\n",
              "      <td>0.011830</td>\n",
              "    </tr>\n",
              "    <tr>\n",
              "      <th>417996</th>\n",
              "      <td>25.0</td>\n",
              "      <td>0.055688</td>\n",
              "    </tr>\n",
              "    <tr>\n",
              "      <th>417997</th>\n",
              "      <td>14.1</td>\n",
              "      <td>0.016934</td>\n",
              "    </tr>\n",
              "    <tr>\n",
              "      <th>417998</th>\n",
              "      <td>6.9</td>\n",
              "      <td>0.026164</td>\n",
              "    </tr>\n",
              "  </tbody>\n",
              "</table>\n",
              "<p>408244 rows × 2 columns</p>\n",
              "</div>"
            ],
            "text/plain": [
              "        fare_amount  distance\n",
              "0              10.5  0.049820\n",
              "1              56.5  0.225398\n",
              "2               8.5  0.033494\n",
              "4               6.5  0.000000\n",
              "5               8.5  0.025939\n",
              "...             ...       ...\n",
              "417994          4.9  0.012123\n",
              "417995          6.0  0.011830\n",
              "417996         25.0  0.055688\n",
              "417997         14.1  0.016934\n",
              "417998          6.9  0.026164\n",
              "\n",
              "[408244 rows x 2 columns]"
            ]
          },
          "metadata": {
            "tags": []
          },
          "execution_count": 311
        }
      ]
    },
    {
      "cell_type": "code",
      "metadata": {
        "id": "eXq5Yl2sLrvS"
      },
      "source": [
        "x_min_10 = []\n",
        "y_min_10 = []\n",
        "for i in new_df2[\"fare_amount\"].index:\n",
        "  if(new_df2[\"distance\"][i] <= 10):\n",
        "    x_min_10.append(new_df2[\"distance\"][i])\n",
        "    y_min_10.append(new_df2[\"fare_amount\"][i])\n",
        "x_min_10 = np.array(x_min_10).reshape(-1,1)\n",
        "y_min_10 = np.array(y_min_10).reshape(-1,1)"
      ],
      "execution_count": null,
      "outputs": []
    },
    {
      "cell_type": "code",
      "metadata": {
        "id": "XvjLXZSPMB_G"
      },
      "source": [
        "reg = LinearRegression().fit(x_min_10, y_min_10)"
      ],
      "execution_count": null,
      "outputs": []
    },
    {
      "cell_type": "code",
      "metadata": {
        "colab": {
          "base_uri": "https://localhost:8080/"
        },
        "id": "IkqxUs4tMwxL",
        "outputId": "7a754f0b-3fc9-4f07-aa90-d4a0179830df"
      },
      "source": [
        "reg.predict(np.array([[1]]))"
      ],
      "execution_count": null,
      "outputs": [
        {
          "output_type": "execute_result",
          "data": {
            "text/plain": [
              "array([[155.41759293]])"
            ]
          },
          "metadata": {
            "tags": []
          },
          "execution_count": 316
        }
      ]
    },
    {
      "cell_type": "code",
      "metadata": {
        "colab": {
          "base_uri": "https://localhost:8080/"
        },
        "id": "JzNF4lTGNE1r",
        "outputId": "ba128586-53f2-4e1f-a146-12e3ccd63a16"
      },
      "source": [
        "reg.coef_"
      ],
      "execution_count": null,
      "outputs": [
        {
          "output_type": "execute_result",
          "data": {
            "text/plain": [
              "array([[149.21353614]])"
            ]
          },
          "metadata": {
            "tags": []
          },
          "execution_count": 317
        }
      ]
    },
    {
      "cell_type": "code",
      "metadata": {
        "colab": {
          "base_uri": "https://localhost:8080/"
        },
        "id": "fGoTgqueNGpe",
        "outputId": "6c1141ec-84c1-4773-ec8c-cd71e11175fe"
      },
      "source": [
        "reg.intercept_"
      ],
      "execution_count": null,
      "outputs": [
        {
          "output_type": "execute_result",
          "data": {
            "text/plain": [
              "array([6.20405679])"
            ]
          },
          "metadata": {
            "tags": []
          },
          "execution_count": 318
        }
      ]
    },
    {
      "cell_type": "code",
      "metadata": {
        "colab": {
          "base_uri": "https://localhost:8080/"
        },
        "id": "fTCCCI_-NN5a",
        "outputId": "e0e8f111-48d8-4af8-b2fb-2d97fcafcc11"
      },
      "source": [
        "reg.score(x_min_10, y_min_10)"
      ],
      "execution_count": null,
      "outputs": [
        {
          "output_type": "execute_result",
          "data": {
            "text/plain": [
              "0.5233666555109207"
            ]
          },
          "metadata": {
            "tags": []
          },
          "execution_count": 320
        }
      ]
    },
    {
      "cell_type": "code",
      "metadata": {
        "colab": {
          "base_uri": "https://localhost:8080/",
          "height": 419
        },
        "id": "SYAMdZTSNdkC",
        "outputId": "f0af2ae8-6fab-4813-f6d5-37ddee8ae361"
      },
      "source": [
        "df = pd.read_csv('test_small.csv')\n",
        "df"
      ],
      "execution_count": null,
      "outputs": [
        {
          "output_type": "execute_result",
          "data": {
            "text/html": [
              "<div>\n",
              "<style scoped>\n",
              "    .dataframe tbody tr th:only-of-type {\n",
              "        vertical-align: middle;\n",
              "    }\n",
              "\n",
              "    .dataframe tbody tr th {\n",
              "        vertical-align: top;\n",
              "    }\n",
              "\n",
              "    .dataframe thead th {\n",
              "        text-align: right;\n",
              "    }\n",
              "</style>\n",
              "<table border=\"1\" class=\"dataframe\">\n",
              "  <thead>\n",
              "    <tr style=\"text-align: right;\">\n",
              "      <th></th>\n",
              "      <th>key</th>\n",
              "      <th>pickup_datetime</th>\n",
              "      <th>pickup_longitude</th>\n",
              "      <th>pickup_latitude</th>\n",
              "      <th>dropoff_longitude</th>\n",
              "      <th>dropoff_latitude</th>\n",
              "      <th>passenger_count</th>\n",
              "    </tr>\n",
              "  </thead>\n",
              "  <tbody>\n",
              "    <tr>\n",
              "      <th>0</th>\n",
              "      <td>2009-06-15 17:26:21.0000001</td>\n",
              "      <td>2009-06-15 17:26:21 UTC</td>\n",
              "      <td>-73.844311</td>\n",
              "      <td>40.721319</td>\n",
              "      <td>-73.841610</td>\n",
              "      <td>40.712278</td>\n",
              "      <td>1</td>\n",
              "    </tr>\n",
              "    <tr>\n",
              "      <th>1</th>\n",
              "      <td>2010-01-05 16:52:16.0000002</td>\n",
              "      <td>2010-01-05 16:52:16 UTC</td>\n",
              "      <td>-74.016048</td>\n",
              "      <td>40.711303</td>\n",
              "      <td>-73.979268</td>\n",
              "      <td>40.782004</td>\n",
              "      <td>1</td>\n",
              "    </tr>\n",
              "    <tr>\n",
              "      <th>2</th>\n",
              "      <td>2011-08-18 00:35:00.00000049</td>\n",
              "      <td>2011-08-18 00:35:00 UTC</td>\n",
              "      <td>-73.982738</td>\n",
              "      <td>40.761270</td>\n",
              "      <td>-73.991242</td>\n",
              "      <td>40.750562</td>\n",
              "      <td>2</td>\n",
              "    </tr>\n",
              "    <tr>\n",
              "      <th>3</th>\n",
              "      <td>2012-04-21 04:30:42.0000001</td>\n",
              "      <td>2012-04-21 04:30:42 UTC</td>\n",
              "      <td>-73.987130</td>\n",
              "      <td>40.733143</td>\n",
              "      <td>-73.991567</td>\n",
              "      <td>40.758092</td>\n",
              "      <td>1</td>\n",
              "    </tr>\n",
              "    <tr>\n",
              "      <th>4</th>\n",
              "      <td>2010-03-09 07:51:00.000000135</td>\n",
              "      <td>2010-03-09 07:51:00 UTC</td>\n",
              "      <td>-73.968095</td>\n",
              "      <td>40.768008</td>\n",
              "      <td>-73.956655</td>\n",
              "      <td>40.783762</td>\n",
              "      <td>1</td>\n",
              "    </tr>\n",
              "    <tr>\n",
              "      <th>...</th>\n",
              "      <td>...</td>\n",
              "      <td>...</td>\n",
              "      <td>...</td>\n",
              "      <td>...</td>\n",
              "      <td>...</td>\n",
              "      <td>...</td>\n",
              "      <td>...</td>\n",
              "    </tr>\n",
              "    <tr>\n",
              "      <th>9994</th>\n",
              "      <td>2010-08-27 08:45:01.0000004</td>\n",
              "      <td>2010-08-27 08:45:01 UTC</td>\n",
              "      <td>-73.983616</td>\n",
              "      <td>40.756005</td>\n",
              "      <td>-73.976169</td>\n",
              "      <td>40.763282</td>\n",
              "      <td>1</td>\n",
              "    </tr>\n",
              "    <tr>\n",
              "      <th>9995</th>\n",
              "      <td>2011-10-26 10:44:00.00000086</td>\n",
              "      <td>2011-10-26 10:44:00 UTC</td>\n",
              "      <td>-73.988277</td>\n",
              "      <td>40.748970</td>\n",
              "      <td>-73.963712</td>\n",
              "      <td>40.773958</td>\n",
              "      <td>2</td>\n",
              "    </tr>\n",
              "    <tr>\n",
              "      <th>9996</th>\n",
              "      <td>2011-12-16 15:37:00.000000179</td>\n",
              "      <td>2011-12-16 15:37:00 UTC</td>\n",
              "      <td>-74.002112</td>\n",
              "      <td>40.748727</td>\n",
              "      <td>-73.992467</td>\n",
              "      <td>40.756252</td>\n",
              "      <td>1</td>\n",
              "    </tr>\n",
              "    <tr>\n",
              "      <th>9997</th>\n",
              "      <td>2013-11-16 22:47:17.0000001</td>\n",
              "      <td>2013-11-16 22:47:17 UTC</td>\n",
              "      <td>-73.992093</td>\n",
              "      <td>40.729071</td>\n",
              "      <td>-73.974470</td>\n",
              "      <td>40.763050</td>\n",
              "      <td>2</td>\n",
              "    </tr>\n",
              "    <tr>\n",
              "      <th>9998</th>\n",
              "      <td>2010-01-28 11:38:00.00000022</td>\n",
              "      <td>2010-01-28 11:38:00 UTC</td>\n",
              "      <td>-73.992548</td>\n",
              "      <td>40.735652</td>\n",
              "      <td>-73.998802</td>\n",
              "      <td>40.723085</td>\n",
              "      <td>1</td>\n",
              "    </tr>\n",
              "  </tbody>\n",
              "</table>\n",
              "<p>9999 rows × 7 columns</p>\n",
              "</div>"
            ],
            "text/plain": [
              "                                key  ... passenger_count\n",
              "0       2009-06-15 17:26:21.0000001  ...               1\n",
              "1       2010-01-05 16:52:16.0000002  ...               1\n",
              "2      2011-08-18 00:35:00.00000049  ...               2\n",
              "3       2012-04-21 04:30:42.0000001  ...               1\n",
              "4     2010-03-09 07:51:00.000000135  ...               1\n",
              "...                             ...  ...             ...\n",
              "9994    2010-08-27 08:45:01.0000004  ...               1\n",
              "9995   2011-10-26 10:44:00.00000086  ...               2\n",
              "9996  2011-12-16 15:37:00.000000179  ...               1\n",
              "9997    2013-11-16 22:47:17.0000001  ...               2\n",
              "9998   2010-01-28 11:38:00.00000022  ...               1\n",
              "\n",
              "[9999 rows x 7 columns]"
            ]
          },
          "metadata": {
            "tags": []
          },
          "execution_count": 321
        }
      ]
    },
    {
      "cell_type": "code",
      "metadata": {
        "colab": {
          "base_uri": "https://localhost:8080/"
        },
        "id": "yVwVQcMsN_EL",
        "outputId": "621b62b1-cef6-41f7-ea54-bc5217c4875f"
      },
      "source": [
        "dis = []\n",
        "for i in df[\"key\"].index:\n",
        "  a = math.sqrt(((df[\"pickup_longitude\"][i]-df[\"dropoff_longitude\"][i])**2)+((df[\"dropoff_latitude\"][i]-df[\"pickup_latitude\"][i])**2))\n",
        "  dis .append(a)\n",
        "dis = np.array(dis).reshape(-1,1)\n",
        "dis"
      ],
      "execution_count": null,
      "outputs": [
        {
          "output_type": "execute_result",
          "data": {
            "text/plain": [
              "array([[0.00943584],\n",
              "       [0.07969567],\n",
              "       [0.01367404],\n",
              "       ...,\n",
              "       [0.01223322],\n",
              "       [0.03827718],\n",
              "       [0.01403717]])"
            ]
          },
          "metadata": {
            "tags": []
          },
          "execution_count": 337
        }
      ]
    },
    {
      "cell_type": "code",
      "metadata": {
        "id": "t8QOhTo4QBdG"
      },
      "source": [
        "result5 = reg.predict(dis)"
      ],
      "execution_count": null,
      "outputs": []
    },
    {
      "cell_type": "code",
      "metadata": {
        "colab": {
          "base_uri": "https://localhost:8080/"
        },
        "id": "cuVC93GQQW8E",
        "outputId": "722b6f68-b0b2-4d7e-dd80-02ac1ace2369"
      },
      "source": [
        "result5"
      ],
      "execution_count": null,
      "outputs": [
        {
          "output_type": "execute_result",
          "data": {
            "text/plain": [
              "array([[ 7.61201188],\n",
              "       [18.09572951],\n",
              "       [ 8.24440816],\n",
              "       ...,\n",
              "       [ 8.02941867],\n",
              "       [11.91553029],\n",
              "       [ 8.29859183]])"
            ]
          },
          "metadata": {
            "tags": []
          },
          "execution_count": 340
        }
      ]
    },
    {
      "cell_type": "code",
      "metadata": {
        "id": "VCCXv8mZQQhy"
      },
      "source": [
        "from google.colab import files\n",
        "import csv\n",
        "send = pd.DataFrame(result5)\n",
        "send.to_csv('send5.csv', index=False)"
      ],
      "execution_count": null,
      "outputs": []
    }
  ]
}